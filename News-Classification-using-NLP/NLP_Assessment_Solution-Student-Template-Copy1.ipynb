{
 "cells": [
  {
   "cell_type": "code",
   "execution_count": 1,
   "metadata": {},
   "outputs": [],
   "source": [
    "# import packages\n",
    "import numpy as np\n",
    "import pandas as pd\n",
    "import matplotlib.pyplot as plt\n",
    "\n",
    "import seaborn as sns\n",
    "import re\n",
    "from nltk.corpus import stopwords\n",
    "from sklearn.model_selection import train_test_split\n",
    "from sklearn.feature_extraction.text import CountVectorizer, TfidfVectorizer\n",
    "from sklearn.naive_bayes import MultinomialNB\n",
    "from sklearn.multiclass import OneVsRestClassifier\n",
    "from sklearn.linear_model import LogisticRegression\n",
    "from sklearn.metrics import accuracy_score ,confusion_matrix\n",
    "\n",
    "import warnings\n",
    "warnings.filterwarnings('ignore')"
   ]
  },
  {
   "cell_type": "markdown",
   "metadata": {},
   "source": [
    "### Load the dataset\n",
    "\n",
    "- Load the train data and using all your knowledge try to explore the different statistical properties of the dataset."
   ]
  },
  {
   "cell_type": "code",
   "execution_count": 2,
   "metadata": {},
   "outputs": [],
   "source": [
    "# Code starts here\n",
    "data = pd.read_csv(\"train.csv\")"
   ]
  },
  {
   "cell_type": "code",
   "execution_count": 3,
   "metadata": {},
   "outputs": [],
   "source": [
    "# stopwords \n",
    "stop = set(stopwords.words('english'))\n",
    "\n",
    "# retain only alphabets\n",
    "data['TITLE'] = data['TITLE'].apply(lambda x:re.sub(\"[^a-zA-Z]\", \" \",x))\n",
    "\n",
    "# convert to lowercase and tokenize\n",
    "data['TITLE'] = data['TITLE'].apply(lambda x:x.lower().split())\n",
    "\n",
    "# remove stopwords\n",
    "data['TITLE'] = data['TITLE'].apply(lambda x:[i for i in x if i not in stop])\n",
    "\n",
    "# join list elements\n",
    "data['TITLE'] = data['TITLE'].apply(lambda x: ' '.join(x))"
   ]
  },
  {
   "cell_type": "code",
   "execution_count": 7,
   "metadata": {},
   "outputs": [
    {
     "name": "stdout",
     "output_type": "stream",
     "text": [
      "(236554, 40795) (236554,)\n",
      "(101381, 1501240) (101381,)\n",
      "(236554,) (236554,)\n",
      "(101381,) (101381,)\n"
     ]
    }
   ],
   "source": [
    "X_train, X_test, y_train, y_test = train_test_split(data[\"TITLE\"],data[\"CATEGORY\"], test_size = 0.3, random_state = 42)\n",
    "\n",
    "# initialize count vectorizer\n",
    "cv = CountVectorizer()\n",
    "\n",
    "# initialize tfidf vectorizer\n",
    "tv = TfidfVectorizer(ngram_range=(1,3))\n",
    "\n",
    "# fit and transform with count vectorizer\n",
    "X_train_cv = cv.fit_transform(X_train)\n",
    "X_test_cv = cv.transform(X_test)\n",
    "\n",
    "# fit and transform with tfidf vectorizer\n",
    "X_train_tfidf = tv.fit_transform(X_train)\n",
    "X_test_tfidf = tv.transform(X_test)\n",
    "\n",
    "print(X_train_cv.shape, y_train.shape)\n",
    "print(X_test_tfidf.shape, y_test.shape)\n",
    "\n",
    "\n",
    "print(X_train.shape, y_train.shape)\n",
    "print(X_test.shape, y_test.shape)"
   ]
  },
  {
   "cell_type": "code",
   "execution_count": 8,
   "metadata": {},
   "outputs": [
    {
     "name": "stdout",
     "output_type": "stream",
     "text": [
      "acc_count_nb: 0.9253903591402728 \n",
      "acc_tfidf_nb: 0.9266036042256438\n"
     ]
    }
   ],
   "source": [
    "# initialize multinomial naive bayes\n",
    "nb_1 = MultinomialNB()\n",
    "nb_2 = MultinomialNB()\n",
    "\n",
    "# fit on count vectorizer training data\n",
    "nb_1.fit(X_train_cv, y_train)\n",
    "\n",
    "# fit on tfidf vectorizer training data\n",
    "nb_2.fit(X_train_tfidf, y_train)\n",
    "\n",
    "# accuracy with count vectorizer\n",
    "acc_count_nb = accuracy_score(nb_1.predict(X_test_cv), y_test)\n",
    "\n",
    "# accuracy with tfidf vectorizer\n",
    "acc_tfidf_nb = accuracy_score(nb_2.predict(X_test_tfidf), y_test)\n",
    "\n",
    "# display accuracies\n",
    "print('acc_count_nb:',acc_count_nb, '\\nacc_tfidf_nb:', acc_tfidf_nb)"
   ]
  },
  {
   "cell_type": "code",
   "execution_count": 9,
   "metadata": {},
   "outputs": [
    {
     "name": "stdout",
     "output_type": "stream",
     "text": [
      "\n",
      "\n",
      "acc_count_logreg= 0.9449502372239375 \n",
      "acc_tfidf_logreg= 0.9391306063266293\n"
     ]
    }
   ],
   "source": [
    "# initialize logistic regression\n",
    "logreg_1 = OneVsRestClassifier(LogisticRegression(random_state=42))\n",
    "logreg_2 = OneVsRestClassifier(LogisticRegression(random_state=42))\n",
    "\n",
    "# fit on count vectorizer training data\n",
    "logreg_1.fit(X_train_cv, y_train)\n",
    "\n",
    "# fit on tfidf vectorizer training data\n",
    "logreg_2.fit(X_train_tfidf, y_train)\n",
    "\n",
    "# accuracy with count vectorizer\n",
    "acc_count_logreg = accuracy_score(logreg_1.predict(X_test_cv), y_test)\n",
    "\n",
    "# accuracy with tfidf vectorizer\n",
    "acc_tfidf_logreg = accuracy_score(logreg_2.predict(X_test_tfidf), y_test)\n",
    "\n",
    "# display accuracies\n",
    "print('\\n\\nacc_count_logreg=',acc_count_logreg, '\\nacc_tfidf_logreg=',acc_tfidf_logreg)"
   ]
  },
  {
   "cell_type": "markdown",
   "metadata": {},
   "source": [
    "### Prediction on the test data and creating the sample submission file.\n",
    "\n",
    "- Load the test data and store the `Id` column in a separate variable.\n",
    "- Perform the same operations on the test data that you have performed on the train data.\n",
    "- Create the submission file as a `csv` file consisting of the `Id` column from the test data and your prediction as the second column."
   ]
  },
  {
   "cell_type": "code",
   "execution_count": 17,
   "metadata": {},
   "outputs": [
    {
     "name": "stdout",
     "output_type": "stream",
     "text": [
      "(84484, 40795)\n"
     ]
    }
   ],
   "source": [
    "# Read the test data\n",
    "test = pd.read_csv('test.csv')\n",
    "test.head(10)\n",
    "\n",
    "\n",
    "# Storing the id from the test file\n",
    "id_ = test['Id']\n",
    "\n",
    "# Apply the transformations on test\n",
    "# retain only alphabets\n",
    "test['TITLE'] = test['TITLE'].apply(lambda x:re.sub(\"[^a-zA-Z]\", \" \",x))\n",
    "\n",
    "# convert to lowercase and tokenize\n",
    "test['TITLE'] = test['TITLE'].apply(lambda x:x.lower().split())\n",
    "\n",
    "# remove stopwords\n",
    "test['TITLE'] = test['TITLE'].apply(lambda x:[i for i in x if i not in stop])\n",
    "\n",
    "# join list elements\n",
    "test['TITLE'] = test['TITLE'].apply(lambda x: ' '.join(x))\n",
    "\n",
    "test_cv = cv.transform(test['TITLE'])\n",
    "test_tfidf = tv.transform(test['TITLE'])\n",
    "\n",
    "# Predict on the test data\n",
    "y_pred_test = logreg_1.predict(test_cv)\n",
    "print(test_cv.shape)\n"
   ]
  },
  {
   "cell_type": "code",
   "execution_count": 16,
   "metadata": {},
   "outputs": [
    {
     "data": {
      "text/plain": [
       "array(['m', 't', 'm', ..., 'e', 't', 'e'], dtype='<U1')"
      ]
     },
     "execution_count": 16,
     "metadata": {},
     "output_type": "execute_result"
    }
   ],
   "source": [
    "#y_pred_test = y_pred_test.flatten()\n",
    "#y_pred_test"
   ]
  },
  {
   "cell_type": "code",
   "execution_count": 28,
   "metadata": {},
   "outputs": [
    {
     "name": "stdout",
     "output_type": "stream",
     "text": [
      "          CATEGORY\n",
      "0   86998        m\n",
      "1  112926        t\n",
      "2  280943        m\n",
      "3   37154        m\n",
      "4  152800        t\n",
      "5  412956        t\n",
      "6  197094        b\n",
      "7  117620        t\n",
      "8   14854        e\n",
      "9  342032        e\n"
     ]
    }
   ],
   "source": [
    "# Create a sample submission file\n",
    "sample_submission = pd.DataFrame({'':id_, 'CATEGORY':y_pred_test})\n",
    "print(sample_submission.head(10))\n",
    "\n",
    "# Convert the sample submission file into a csv file\n",
    "sample_submission.to_csv('sample_submission.csv',index=False, header=True)\n",
    "\n",
    "# Code ends here"
   ]
  },
  {
   "cell_type": "code",
   "execution_count": null,
   "metadata": {},
   "outputs": [],
   "source": []
  },
  {
   "cell_type": "code",
   "execution_count": null,
   "metadata": {},
   "outputs": [],
   "source": []
  }
 ],
 "metadata": {
  "kernelspec": {
   "display_name": "Python 3",
   "language": "python",
   "name": "python3"
  },
  "language_info": {
   "codemirror_mode": {
    "name": "ipython",
    "version": 3
   },
   "file_extension": ".py",
   "mimetype": "text/x-python",
   "name": "python",
   "nbconvert_exporter": "python",
   "pygments_lexer": "ipython3",
   "version": "3.8.3"
  }
 },
 "nbformat": 4,
 "nbformat_minor": 2
}
