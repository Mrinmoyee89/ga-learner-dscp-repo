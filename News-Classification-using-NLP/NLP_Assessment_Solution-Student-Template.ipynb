{
 "cells": [
  {
   "cell_type": "code",
   "execution_count": 79,
   "metadata": {},
   "outputs": [],
   "source": [
    "# import packages\n",
    "import numpy as np\n",
    "import pandas as pd\n",
    "import matplotlib.pyplot as plt\n",
    "\n",
    "import seaborn as sns\n",
    "import re\n",
    "from nltk.corpus import stopwords\n",
    "from sklearn.model_selection import train_test_split\n",
    "from sklearn.feature_extraction.text import CountVectorizer, TfidfVectorizer\n",
    "from sklearn.naive_bayes import MultinomialNB\n",
    "from sklearn.multiclass import OneVsRestClassifier\n",
    "from sklearn.linear_model import LogisticRegression\n",
    "from sklearn.metrics import accuracy_score ,confusion_matrix\n"
   ]
  },
  {
   "cell_type": "markdown",
   "metadata": {},
   "source": [
    "### Load the dataset\n",
    "\n",
    "- Load the train data and using all your knowledge try to explore the different statistical properties of the dataset."
   ]
  },
  {
   "cell_type": "code",
   "execution_count": 80,
   "metadata": {},
   "outputs": [
    {
     "data": {
      "text/html": [
       "<div>\n",
       "<style scoped>\n",
       "    .dataframe tbody tr th:only-of-type {\n",
       "        vertical-align: middle;\n",
       "    }\n",
       "\n",
       "    .dataframe tbody tr th {\n",
       "        vertical-align: top;\n",
       "    }\n",
       "\n",
       "    .dataframe thead th {\n",
       "        text-align: right;\n",
       "    }\n",
       "</style>\n",
       "<table border=\"1\" class=\"dataframe\">\n",
       "  <thead>\n",
       "    <tr style=\"text-align: right;\">\n",
       "      <th></th>\n",
       "      <th>Id</th>\n",
       "      <th>TITLE</th>\n",
       "      <th>CATEGORY</th>\n",
       "    </tr>\n",
       "  </thead>\n",
       "  <tbody>\n",
       "    <tr>\n",
       "      <th>0</th>\n",
       "      <td>50846</td>\n",
       "      <td>Ukraine to get $18 billion rescue from IMF</td>\n",
       "      <td>b</td>\n",
       "    </tr>\n",
       "    <tr>\n",
       "      <th>1</th>\n",
       "      <td>234375</td>\n",
       "      <td>McDonald's Abandons Headquarters to Avoid Prot...</td>\n",
       "      <td>b</td>\n",
       "    </tr>\n",
       "    <tr>\n",
       "      <th>2</th>\n",
       "      <td>63422</td>\n",
       "      <td>New study finds evidence that Autism begins in...</td>\n",
       "      <td>m</td>\n",
       "    </tr>\n",
       "    <tr>\n",
       "      <th>3</th>\n",
       "      <td>353942</td>\n",
       "      <td>Prime Minister Modi Says Meeting With Facebook...</td>\n",
       "      <td>t</td>\n",
       "    </tr>\n",
       "    <tr>\n",
       "      <th>4</th>\n",
       "      <td>311586</td>\n",
       "      <td>New robot guides at Tokyo museum almost outper...</td>\n",
       "      <td>t</td>\n",
       "    </tr>\n",
       "  </tbody>\n",
       "</table>\n",
       "</div>"
      ],
      "text/plain": [
       "       Id                                              TITLE CATEGORY\n",
       "0   50846         Ukraine to get $18 billion rescue from IMF        b\n",
       "1  234375  McDonald's Abandons Headquarters to Avoid Prot...        b\n",
       "2   63422  New study finds evidence that Autism begins in...        m\n",
       "3  353942  Prime Minister Modi Says Meeting With Facebook...        t\n",
       "4  311586  New robot guides at Tokyo museum almost outper...        t"
      ]
     },
     "execution_count": 80,
     "metadata": {},
     "output_type": "execute_result"
    }
   ],
   "source": [
    "# Code starts here\n",
    "data=pd.read_csv('train.csv')\n",
    "data.head(5)"
   ]
  },
  {
   "cell_type": "code",
   "execution_count": 81,
   "metadata": {},
   "outputs": [
    {
     "name": "stdout",
     "output_type": "stream",
     "text": [
      "<class 'pandas.core.frame.DataFrame'>\n",
      "RangeIndex: 337935 entries, 0 to 337934\n",
      "Data columns (total 3 columns):\n",
      " #   Column    Non-Null Count   Dtype \n",
      "---  ------    --------------   ----- \n",
      " 0   Id        337935 non-null  int64 \n",
      " 1   TITLE     337935 non-null  object\n",
      " 2   CATEGORY  337935 non-null  object\n",
      "dtypes: int64(1), object(2)\n",
      "memory usage: 7.7+ MB\n",
      "None\n",
      "(337935, 3)\n"
     ]
    }
   ],
   "source": [
    "print(data.info())\n",
    "print(data.shape)"
   ]
  },
  {
   "cell_type": "code",
   "execution_count": 82,
   "metadata": {},
   "outputs": [
    {
     "name": "stdout",
     "output_type": "stream",
     "text": [
      "327275\n",
      "4\n"
     ]
    }
   ],
   "source": [
    "print(data['TITLE'].nunique())\n",
    "print(data['CATEGORY'].nunique())"
   ]
  },
  {
   "cell_type": "code",
   "execution_count": 83,
   "metadata": {},
   "outputs": [
    {
     "data": {
      "text/html": [
       "<div>\n",
       "<style scoped>\n",
       "    .dataframe tbody tr th:only-of-type {\n",
       "        vertical-align: middle;\n",
       "    }\n",
       "\n",
       "    .dataframe tbody tr th {\n",
       "        vertical-align: top;\n",
       "    }\n",
       "\n",
       "    .dataframe thead th {\n",
       "        text-align: right;\n",
       "    }\n",
       "</style>\n",
       "<table border=\"1\" class=\"dataframe\">\n",
       "  <thead>\n",
       "    <tr style=\"text-align: right;\">\n",
       "      <th></th>\n",
       "      <th>Id</th>\n",
       "      <th>TITLE</th>\n",
       "      <th>CATEGORY</th>\n",
       "    </tr>\n",
       "  </thead>\n",
       "  <tbody>\n",
       "    <tr>\n",
       "      <th>0</th>\n",
       "      <td>50846</td>\n",
       "      <td>Ukraine to get $18 billion rescue from IMF</td>\n",
       "      <td>b</td>\n",
       "    </tr>\n",
       "    <tr>\n",
       "      <th>1</th>\n",
       "      <td>234375</td>\n",
       "      <td>McDonald's Abandons Headquarters to Avoid Prot...</td>\n",
       "      <td>b</td>\n",
       "    </tr>\n",
       "    <tr>\n",
       "      <th>2</th>\n",
       "      <td>63422</td>\n",
       "      <td>New study finds evidence that Autism begins in...</td>\n",
       "      <td>m</td>\n",
       "    </tr>\n",
       "    <tr>\n",
       "      <th>3</th>\n",
       "      <td>353942</td>\n",
       "      <td>Prime Minister Modi Says Meeting With Facebook...</td>\n",
       "      <td>t</td>\n",
       "    </tr>\n",
       "    <tr>\n",
       "      <th>4</th>\n",
       "      <td>311586</td>\n",
       "      <td>New robot guides at Tokyo museum almost outper...</td>\n",
       "      <td>t</td>\n",
       "    </tr>\n",
       "    <tr>\n",
       "      <th>...</th>\n",
       "      <td>...</td>\n",
       "      <td>...</td>\n",
       "      <td>...</td>\n",
       "    </tr>\n",
       "    <tr>\n",
       "      <th>337930</th>\n",
       "      <td>266858</td>\n",
       "      <td>EPA: Washington must cut emissions by 72 percent</td>\n",
       "      <td>b</td>\n",
       "    </tr>\n",
       "    <tr>\n",
       "      <th>337931</th>\n",
       "      <td>239572</td>\n",
       "      <td>Tupac's dying words revealed</td>\n",
       "      <td>e</td>\n",
       "    </tr>\n",
       "    <tr>\n",
       "      <th>337932</th>\n",
       "      <td>303331</td>\n",
       "      <td>Universal: New Harry Potter area opens in July</td>\n",
       "      <td>e</td>\n",
       "    </tr>\n",
       "    <tr>\n",
       "      <th>337933</th>\n",
       "      <td>379593</td>\n",
       "      <td>Yahoo Revenue Declines Again; Marissa Mayer Is...</td>\n",
       "      <td>t</td>\n",
       "    </tr>\n",
       "    <tr>\n",
       "      <th>337934</th>\n",
       "      <td>162698</td>\n",
       "      <td>Saudi king visits Jeddah as two more die of Mers</td>\n",
       "      <td>m</td>\n",
       "    </tr>\n",
       "  </tbody>\n",
       "</table>\n",
       "<p>337935 rows × 3 columns</p>\n",
       "</div>"
      ],
      "text/plain": [
       "            Id                                              TITLE CATEGORY\n",
       "0        50846         Ukraine to get $18 billion rescue from IMF        b\n",
       "1       234375  McDonald's Abandons Headquarters to Avoid Prot...        b\n",
       "2        63422  New study finds evidence that Autism begins in...        m\n",
       "3       353942  Prime Minister Modi Says Meeting With Facebook...        t\n",
       "4       311586  New robot guides at Tokyo museum almost outper...        t\n",
       "...        ...                                                ...      ...\n",
       "337930  266858   EPA: Washington must cut emissions by 72 percent        b\n",
       "337931  239572                       Tupac's dying words revealed        e\n",
       "337932  303331     Universal: New Harry Potter area opens in July        e\n",
       "337933  379593  Yahoo Revenue Declines Again; Marissa Mayer Is...        t\n",
       "337934  162698   Saudi king visits Jeddah as two more die of Mers        m\n",
       "\n",
       "[337935 rows x 3 columns]"
      ]
     },
     "execution_count": 83,
     "metadata": {},
     "output_type": "execute_result"
    }
   ],
   "source": [
    "data"
   ]
  },
  {
   "cell_type": "markdown",
   "metadata": {},
   "source": [
    "### Visualize and Preprocess the data"
   ]
  },
  {
   "cell_type": "markdown",
   "metadata": {},
   "source": [
    "### Retaining only alphabets (Using regular expressions)"
   ]
  },
  {
   "cell_type": "code",
   "execution_count": 84,
   "metadata": {},
   "outputs": [
    {
     "name": "stderr",
     "output_type": "stream",
     "text": [
      "<ipython-input-84-28808a0e31c9>:1: FutureWarning: The default value of regex will change from True to False in a future version.\n",
      "  data['TITLE']=data['TITLE'].str.replace('[^a-zA-Z]', ' ')\n"
     ]
    },
    {
     "data": {
      "text/html": [
       "<div>\n",
       "<style scoped>\n",
       "    .dataframe tbody tr th:only-of-type {\n",
       "        vertical-align: middle;\n",
       "    }\n",
       "\n",
       "    .dataframe tbody tr th {\n",
       "        vertical-align: top;\n",
       "    }\n",
       "\n",
       "    .dataframe thead th {\n",
       "        text-align: right;\n",
       "    }\n",
       "</style>\n",
       "<table border=\"1\" class=\"dataframe\">\n",
       "  <thead>\n",
       "    <tr style=\"text-align: right;\">\n",
       "      <th></th>\n",
       "      <th>Id</th>\n",
       "      <th>TITLE</th>\n",
       "      <th>CATEGORY</th>\n",
       "    </tr>\n",
       "  </thead>\n",
       "  <tbody>\n",
       "    <tr>\n",
       "      <th>0</th>\n",
       "      <td>50846</td>\n",
       "      <td>Ukraine to get     billion rescue from IMF</td>\n",
       "      <td>b</td>\n",
       "    </tr>\n",
       "    <tr>\n",
       "      <th>1</th>\n",
       "      <td>234375</td>\n",
       "      <td>McDonald s Abandons Headquarters to Avoid Prot...</td>\n",
       "      <td>b</td>\n",
       "    </tr>\n",
       "    <tr>\n",
       "      <th>2</th>\n",
       "      <td>63422</td>\n",
       "      <td>New study finds evidence that Autism begins in...</td>\n",
       "      <td>m</td>\n",
       "    </tr>\n",
       "    <tr>\n",
       "      <th>3</th>\n",
       "      <td>353942</td>\n",
       "      <td>Prime Minister Modi Says Meeting With Facebook...</td>\n",
       "      <td>t</td>\n",
       "    </tr>\n",
       "    <tr>\n",
       "      <th>4</th>\n",
       "      <td>311586</td>\n",
       "      <td>New robot guides at Tokyo museum almost outper...</td>\n",
       "      <td>t</td>\n",
       "    </tr>\n",
       "    <tr>\n",
       "      <th>...</th>\n",
       "      <td>...</td>\n",
       "      <td>...</td>\n",
       "      <td>...</td>\n",
       "    </tr>\n",
       "    <tr>\n",
       "      <th>337930</th>\n",
       "      <td>266858</td>\n",
       "      <td>EPA  Washington must cut emissions by    percent</td>\n",
       "      <td>b</td>\n",
       "    </tr>\n",
       "    <tr>\n",
       "      <th>337931</th>\n",
       "      <td>239572</td>\n",
       "      <td>Tupac s dying words revealed</td>\n",
       "      <td>e</td>\n",
       "    </tr>\n",
       "    <tr>\n",
       "      <th>337932</th>\n",
       "      <td>303331</td>\n",
       "      <td>Universal  New Harry Potter area opens in July</td>\n",
       "      <td>e</td>\n",
       "    </tr>\n",
       "    <tr>\n",
       "      <th>337933</th>\n",
       "      <td>379593</td>\n",
       "      <td>Yahoo Revenue Declines Again  Marissa Mayer Is...</td>\n",
       "      <td>t</td>\n",
       "    </tr>\n",
       "    <tr>\n",
       "      <th>337934</th>\n",
       "      <td>162698</td>\n",
       "      <td>Saudi king visits Jeddah as two more die of Mers</td>\n",
       "      <td>m</td>\n",
       "    </tr>\n",
       "  </tbody>\n",
       "</table>\n",
       "<p>337935 rows × 3 columns</p>\n",
       "</div>"
      ],
      "text/plain": [
       "            Id                                              TITLE CATEGORY\n",
       "0        50846         Ukraine to get     billion rescue from IMF        b\n",
       "1       234375  McDonald s Abandons Headquarters to Avoid Prot...        b\n",
       "2        63422  New study finds evidence that Autism begins in...        m\n",
       "3       353942  Prime Minister Modi Says Meeting With Facebook...        t\n",
       "4       311586  New robot guides at Tokyo museum almost outper...        t\n",
       "...        ...                                                ...      ...\n",
       "337930  266858   EPA  Washington must cut emissions by    percent        b\n",
       "337931  239572                       Tupac s dying words revealed        e\n",
       "337932  303331     Universal  New Harry Potter area opens in July        e\n",
       "337933  379593  Yahoo Revenue Declines Again  Marissa Mayer Is...        t\n",
       "337934  162698   Saudi king visits Jeddah as two more die of Mers        m\n",
       "\n",
       "[337935 rows x 3 columns]"
      ]
     },
     "execution_count": 84,
     "metadata": {},
     "output_type": "execute_result"
    }
   ],
   "source": [
    "data['TITLE']=data['TITLE'].str.replace('[^a-zA-Z]', ' ')\n",
    "data"
   ]
  },
  {
   "cell_type": "code",
   "execution_count": 85,
   "metadata": {},
   "outputs": [],
   "source": [
    "#data['TITLE']=data['TITLE'].str.replace('[^a-zA-Z]', ' ').str.lower().str.split('\\s+')"
   ]
  },
  {
   "cell_type": "code",
   "execution_count": 86,
   "metadata": {},
   "outputs": [
    {
     "ename": "SyntaxError",
     "evalue": "EOL while scanning string literal (<ipython-input-86-eea9cc7cabf5>, line 17)",
     "output_type": "error",
     "traceback": [
      "\u001b[1;36m  File \u001b[1;32m\"<ipython-input-86-eea9cc7cabf5>\"\u001b[1;36m, line \u001b[1;32m17\u001b[0m\n\u001b[1;33m    ''''\u001b[0m\n\u001b[1;37m        \n^\u001b[0m\n\u001b[1;31mSyntaxError\u001b[0m\u001b[1;31m:\u001b[0m EOL while scanning string literal\n"
     ]
    }
   ],
   "source": [
    "'''''\n",
    "# Import stopwords with nltk.\n",
    "from nltk.corpus import stopwords\n",
    "stop = stopwords.words('english')\n",
    "\n",
    "pos_tweets = [('I love this car', 'positive'),\n",
    "    ('This view is amazing', 'positive'),\n",
    "    ('I feel great this morning', 'positive'),\n",
    "    ('I am so excited about the concert', 'positive'),\n",
    "    ('He is my best friend', 'positive')]\n",
    "\n",
    "test = pd.DataFrame(pos_tweets)\n",
    "test.columns = [\"tweet\",\"class\"]\n",
    "# Exclude stopwords with Python's list comprehension and pandas.DataFrame.apply.\n",
    "test['tweet_without_stopwords'] = test['tweet'].apply(lambda x: ' '.join([word for word in x.split() if word not in (stop)]))\n",
    "test\n",
    "''''"
   ]
  },
  {
   "cell_type": "markdown",
   "metadata": {},
   "source": [
    "### Removing stopwords (Using nltk library)"
   ]
  },
  {
   "cell_type": "code",
   "execution_count": 87,
   "metadata": {},
   "outputs": [],
   "source": [
    "from nltk.corpus import stopwords\n",
    "stop = stopwords.words('english')"
   ]
  },
  {
   "cell_type": "code",
   "execution_count": 88,
   "metadata": {},
   "outputs": [
    {
     "data": {
      "text/html": [
       "<div>\n",
       "<style scoped>\n",
       "    .dataframe tbody tr th:only-of-type {\n",
       "        vertical-align: middle;\n",
       "    }\n",
       "\n",
       "    .dataframe tbody tr th {\n",
       "        vertical-align: top;\n",
       "    }\n",
       "\n",
       "    .dataframe thead th {\n",
       "        text-align: right;\n",
       "    }\n",
       "</style>\n",
       "<table border=\"1\" class=\"dataframe\">\n",
       "  <thead>\n",
       "    <tr style=\"text-align: right;\">\n",
       "      <th></th>\n",
       "      <th>Id</th>\n",
       "      <th>TITLE</th>\n",
       "      <th>CATEGORY</th>\n",
       "      <th>TITLE_without_stopword</th>\n",
       "    </tr>\n",
       "  </thead>\n",
       "  <tbody>\n",
       "    <tr>\n",
       "      <th>0</th>\n",
       "      <td>50846</td>\n",
       "      <td>Ukraine to get     billion rescue from IMF</td>\n",
       "      <td>b</td>\n",
       "      <td>Ukraine get billion rescue IMF</td>\n",
       "    </tr>\n",
       "    <tr>\n",
       "      <th>1</th>\n",
       "      <td>234375</td>\n",
       "      <td>McDonald s Abandons Headquarters to Avoid Prot...</td>\n",
       "      <td>b</td>\n",
       "      <td>McDonald Abandons Headquarters Avoid Protesters</td>\n",
       "    </tr>\n",
       "    <tr>\n",
       "      <th>2</th>\n",
       "      <td>63422</td>\n",
       "      <td>New study finds evidence that Autism begins in...</td>\n",
       "      <td>m</td>\n",
       "      <td>New study finds evidence Autism begins womb</td>\n",
       "    </tr>\n",
       "    <tr>\n",
       "      <th>3</th>\n",
       "      <td>353942</td>\n",
       "      <td>Prime Minister Modi Says Meeting With Facebook...</td>\n",
       "      <td>t</td>\n",
       "      <td>Prime Minister Modi Says Meeting With Facebook...</td>\n",
       "    </tr>\n",
       "    <tr>\n",
       "      <th>4</th>\n",
       "      <td>311586</td>\n",
       "      <td>New robot guides at Tokyo museum almost outper...</td>\n",
       "      <td>t</td>\n",
       "      <td>New robot guides Tokyo museum almost outperfor...</td>\n",
       "    </tr>\n",
       "    <tr>\n",
       "      <th>...</th>\n",
       "      <td>...</td>\n",
       "      <td>...</td>\n",
       "      <td>...</td>\n",
       "      <td>...</td>\n",
       "    </tr>\n",
       "    <tr>\n",
       "      <th>337930</th>\n",
       "      <td>266858</td>\n",
       "      <td>EPA  Washington must cut emissions by    percent</td>\n",
       "      <td>b</td>\n",
       "      <td>EPA Washington must cut emissions percent</td>\n",
       "    </tr>\n",
       "    <tr>\n",
       "      <th>337931</th>\n",
       "      <td>239572</td>\n",
       "      <td>Tupac s dying words revealed</td>\n",
       "      <td>e</td>\n",
       "      <td>Tupac dying words revealed</td>\n",
       "    </tr>\n",
       "    <tr>\n",
       "      <th>337932</th>\n",
       "      <td>303331</td>\n",
       "      <td>Universal  New Harry Potter area opens in July</td>\n",
       "      <td>e</td>\n",
       "      <td>Universal New Harry Potter area opens July</td>\n",
       "    </tr>\n",
       "    <tr>\n",
       "      <th>337933</th>\n",
       "      <td>379593</td>\n",
       "      <td>Yahoo Revenue Declines Again  Marissa Mayer Is...</td>\n",
       "      <td>t</td>\n",
       "      <td>Yahoo Revenue Declines Again Marissa Mayer Is ...</td>\n",
       "    </tr>\n",
       "    <tr>\n",
       "      <th>337934</th>\n",
       "      <td>162698</td>\n",
       "      <td>Saudi king visits Jeddah as two more die of Mers</td>\n",
       "      <td>m</td>\n",
       "      <td>Saudi king visits Jeddah two die Mers</td>\n",
       "    </tr>\n",
       "  </tbody>\n",
       "</table>\n",
       "<p>337935 rows × 4 columns</p>\n",
       "</div>"
      ],
      "text/plain": [
       "            Id                                              TITLE CATEGORY  \\\n",
       "0        50846         Ukraine to get     billion rescue from IMF        b   \n",
       "1       234375  McDonald s Abandons Headquarters to Avoid Prot...        b   \n",
       "2        63422  New study finds evidence that Autism begins in...        m   \n",
       "3       353942  Prime Minister Modi Says Meeting With Facebook...        t   \n",
       "4       311586  New robot guides at Tokyo museum almost outper...        t   \n",
       "...        ...                                                ...      ...   \n",
       "337930  266858   EPA  Washington must cut emissions by    percent        b   \n",
       "337931  239572                       Tupac s dying words revealed        e   \n",
       "337932  303331     Universal  New Harry Potter area opens in July        e   \n",
       "337933  379593  Yahoo Revenue Declines Again  Marissa Mayer Is...        t   \n",
       "337934  162698   Saudi king visits Jeddah as two more die of Mers        m   \n",
       "\n",
       "                                   TITLE_without_stopword  \n",
       "0                          Ukraine get billion rescue IMF  \n",
       "1         McDonald Abandons Headquarters Avoid Protesters  \n",
       "2             New study finds evidence Autism begins womb  \n",
       "3       Prime Minister Modi Says Meeting With Facebook...  \n",
       "4       New robot guides Tokyo museum almost outperfor...  \n",
       "...                                                   ...  \n",
       "337930          EPA Washington must cut emissions percent  \n",
       "337931                         Tupac dying words revealed  \n",
       "337932         Universal New Harry Potter area opens July  \n",
       "337933  Yahoo Revenue Declines Again Marissa Mayer Is ...  \n",
       "337934              Saudi king visits Jeddah two die Mers  \n",
       "\n",
       "[337935 rows x 4 columns]"
      ]
     },
     "execution_count": 88,
     "metadata": {},
     "output_type": "execute_result"
    }
   ],
   "source": [
    "data['TITLE_without_stopword'] = data['TITLE'].apply(lambda x: ' '.join([word for word in x.split() if word not in (stop)]))\n",
    "data"
   ]
  },
  {
   "cell_type": "code",
   "execution_count": 121,
   "metadata": {},
   "outputs": [
    {
     "data": {
      "text/html": [
       "<div>\n",
       "<style scoped>\n",
       "    .dataframe tbody tr th:only-of-type {\n",
       "        vertical-align: middle;\n",
       "    }\n",
       "\n",
       "    .dataframe tbody tr th {\n",
       "        vertical-align: top;\n",
       "    }\n",
       "\n",
       "    .dataframe thead th {\n",
       "        text-align: right;\n",
       "    }\n",
       "</style>\n",
       "<table border=\"1\" class=\"dataframe\">\n",
       "  <thead>\n",
       "    <tr style=\"text-align: right;\">\n",
       "      <th></th>\n",
       "      <th>X</th>\n",
       "      <th>y</th>\n",
       "    </tr>\n",
       "  </thead>\n",
       "  <tbody>\n",
       "    <tr>\n",
       "      <th>0</th>\n",
       "      <td>Ukraine get billion rescue IMF</td>\n",
       "      <td>b</td>\n",
       "    </tr>\n",
       "    <tr>\n",
       "      <th>1</th>\n",
       "      <td>McDonald Abandons Headquarters Avoid Protesters</td>\n",
       "      <td>b</td>\n",
       "    </tr>\n",
       "    <tr>\n",
       "      <th>2</th>\n",
       "      <td>New study finds evidence Autism begins womb</td>\n",
       "      <td>m</td>\n",
       "    </tr>\n",
       "    <tr>\n",
       "      <th>3</th>\n",
       "      <td>Prime Minister Modi Says Meeting With Facebook...</td>\n",
       "      <td>t</td>\n",
       "    </tr>\n",
       "    <tr>\n",
       "      <th>4</th>\n",
       "      <td>New robot guides Tokyo museum almost outperfor...</td>\n",
       "      <td>t</td>\n",
       "    </tr>\n",
       "    <tr>\n",
       "      <th>...</th>\n",
       "      <td>...</td>\n",
       "      <td>...</td>\n",
       "    </tr>\n",
       "    <tr>\n",
       "      <th>495</th>\n",
       "      <td>TweetDeck Was Hacked And This Tweet Is Getting...</td>\n",
       "      <td>t</td>\n",
       "    </tr>\n",
       "    <tr>\n",
       "      <th>496</th>\n",
       "      <td>Frigoglass offers innovative limited edition F...</td>\n",
       "      <td>b</td>\n",
       "    </tr>\n",
       "    <tr>\n",
       "      <th>497</th>\n",
       "      <td>Supreme Court declines block drug ruling paten...</td>\n",
       "      <td>b</td>\n",
       "    </tr>\n",
       "    <tr>\n",
       "      <th>498</th>\n",
       "      <td>Fist bump instead handshake handshake instead ...</td>\n",
       "      <td>m</td>\n",
       "    </tr>\n",
       "    <tr>\n",
       "      <th>499</th>\n",
       "      <td>NIntendo Apologizes For Exclusion Of Gays From...</td>\n",
       "      <td>t</td>\n",
       "    </tr>\n",
       "  </tbody>\n",
       "</table>\n",
       "<p>500 rows × 2 columns</p>\n",
       "</div>"
      ],
      "text/plain": [
       "                                                     X  y\n",
       "0                       Ukraine get billion rescue IMF  b\n",
       "1      McDonald Abandons Headquarters Avoid Protesters  b\n",
       "2          New study finds evidence Autism begins womb  m\n",
       "3    Prime Minister Modi Says Meeting With Facebook...  t\n",
       "4    New robot guides Tokyo museum almost outperfor...  t\n",
       "..                                                 ... ..\n",
       "495  TweetDeck Was Hacked And This Tweet Is Getting...  t\n",
       "496  Frigoglass offers innovative limited edition F...  b\n",
       "497  Supreme Court declines block drug ruling paten...  b\n",
       "498  Fist bump instead handshake handshake instead ...  m\n",
       "499  NIntendo Apologizes For Exclusion Of Gays From...  t\n",
       "\n",
       "[500 rows x 2 columns]"
      ]
     },
     "execution_count": 121,
     "metadata": {},
     "output_type": "execute_result"
    }
   ],
   "source": [
    "df=data[['TITLE_without_stopword', 'CATEGORY']]\n",
    "df.columns=[\"X\",\"y\"]\n",
    "df=df.head(500)\n",
    "df"
   ]
  },
  {
   "cell_type": "markdown",
   "metadata": {},
   "source": [
    "### Model building\n",
    "\n",
    "- Now let's come to the actual task, using any classifier, predict the `CATEGORY`. Use different techniques you have learned to imporove the performance of the model.\n",
    "- Try improving upon the `accuracy_score` ([Accuracy Score](https://scikit-learn.org/stable/modules/generated/sklearn.metrics.accuracy_score.html))"
   ]
  },
  {
   "cell_type": "code",
   "execution_count": 122,
   "metadata": {},
   "outputs": [],
   "source": [
    "# Code starts here"
   ]
  },
  {
   "cell_type": "code",
   "execution_count": 123,
   "metadata": {},
   "outputs": [
    {
     "data": {
      "text/plain": [
       "(500, 2197)"
      ]
     },
     "execution_count": 123,
     "metadata": {},
     "output_type": "execute_result"
    }
   ],
   "source": [
    "cv = CountVectorizer()\n",
    "cv.fit(df[\"X\"])\n",
    "vector = cv.transform(df[\"X\"])\n",
    "X = vector.toarray()\n",
    "\n",
    "X.shape"
   ]
  },
  {
   "cell_type": "code",
   "execution_count": 124,
   "metadata": {},
   "outputs": [],
   "source": [
    "from sklearn.metrics import accuracy_score,roc_auc_score\n",
    "from sklearn.linear_model import LogisticRegression\n",
    "from sklearn.model_selection import train_test_split\n",
    "from sklearn.feature_extraction.text import CountVectorizer\n",
    "from sklearn.preprocessing import LabelEncoder"
   ]
  },
  {
   "cell_type": "code",
   "execution_count": 125,
   "metadata": {},
   "outputs": [
    {
     "name": "stderr",
     "output_type": "stream",
     "text": [
      "<ipython-input-125-09f285a604a9>:3: SettingWithCopyWarning: \n",
      "A value is trying to be set on a copy of a slice from a DataFrame.\n",
      "Try using .loc[row_indexer,col_indexer] = value instead\n",
      "\n",
      "See the caveats in the documentation: https://pandas.pydata.org/pandas-docs/stable/user_guide/indexing.html#returning-a-view-versus-a-copy\n",
      "  labels['y']=le.fit_transform(labels['y'])\n"
     ]
    }
   ],
   "source": [
    "labels=df[[\"y\"]]\n",
    "le=LabelEncoder()\n",
    "labels['y']=le.fit_transform(labels['y'])"
   ]
  },
  {
   "cell_type": "code",
   "execution_count": 131,
   "metadata": {},
   "outputs": [
    {
     "data": {
      "text/plain": [
       "<AxesSubplot:>"
      ]
     },
     "execution_count": 131,
     "metadata": {},
     "output_type": "execute_result"
    },
    {
     "data": {
      "image/png": "[encoded data removed]",
      "text/plain": [
       "<Figure size 432x288 with 1 Axes>"
      ]
     },
     "metadata": {
      "needs_background": "light"
     },
     "output_type": "display_data"
    }
   ],
   "source": [
    "labels['y'].value_counts().plot(kind='bar')"
   ]
  },
  {
   "cell_type": "code",
   "execution_count": 126,
   "metadata": {},
   "outputs": [],
   "source": [
    "X_train, X_test, y_train, y_test=train_test_split(X, labels[\"y\"], test_size = 0.4, random_state = 42)"
   ]
  },
  {
   "cell_type": "code",
   "execution_count": 127,
   "metadata": {},
   "outputs": [
    {
     "data": {
      "text/plain": [
       "0.675"
      ]
     },
     "execution_count": 127,
     "metadata": {},
     "output_type": "execute_result"
    }
   ],
   "source": [
    "log_reg=LogisticRegression(random_state=42)\n",
    "log_reg.fit(X_train,y_train)\n",
    "acc = log_reg.score(X_test,y_test)\n",
    "acc"
   ]
  },
  {
   "cell_type": "code",
   "execution_count": 128,
   "metadata": {},
   "outputs": [],
   "source": [
    "tfidf=TfidfVectorizer()\n",
    "vector_tfidf=tfidf.fit_transform(df[\"X\"])\n",
    "X_tfidf=vector_tfidf.toarray()\n",
    "\n",
    "\n",
    "X_train, X_test, y_train, y_test=train_test_split(X_tfidf, labels[\"y\"], test_size = 0.4, random_state = 42)"
   ]
  },
  {
   "cell_type": "code",
   "execution_count": 129,
   "metadata": {},
   "outputs": [
    {
     "data": {
      "text/plain": [
       "0.62"
      ]
     },
     "execution_count": 129,
     "metadata": {},
     "output_type": "execute_result"
    }
   ],
   "source": [
    "log_reg=LogisticRegression(random_state=42)\n",
    "log_reg.fit(X_train,y_train)\n",
    "tfidf_acc = log_reg.score(X_test,y_test)\n",
    "tfidf_acc"
   ]
  },
  {
   "cell_type": "code",
   "execution_count": 130,
   "metadata": {},
   "outputs": [
    {
     "data": {
      "text/plain": [
       "0.625"
      ]
     },
     "execution_count": 130,
     "metadata": {},
     "output_type": "execute_result"
    }
   ],
   "source": [
    "nb=MultinomialNB()\n",
    "nb.fit(X_train,y_train)\n",
    "\n",
    "nb_acc = nb.score(X_test,y_test)\n",
    "nb_acc"
   ]
  },
  {
   "cell_type": "code",
   "execution_count": 133,
   "metadata": {},
   "outputs": [
    {
     "data": {
      "text/plain": [
       "0.635"
      ]
     },
     "execution_count": 133,
     "metadata": {},
     "output_type": "execute_result"
    }
   ],
   "source": [
    "from sklearn.svm import SVC\n",
    "clf = OneVsRestClassifier(SVC())\n",
    "clf.fit(X_train,y_train)\n",
    "clf_acc = clf.score(X_test,y_test)\n",
    "clf_acc"
   ]
  },
  {
   "cell_type": "code",
   "execution_count": 135,
   "metadata": {},
   "outputs": [
    {
     "data": {
      "text/plain": [
       "0.65"
      ]
     },
     "execution_count": 135,
     "metadata": {},
     "output_type": "execute_result"
    }
   ],
   "source": [
    "from imblearn.over_sampling import RandomOverSampler\n",
    "from sklearn.naive_bayes import MultinomialNB\n",
    "ros=RandomOverSampler(random_state=0)\n",
    "X_ros, y_ros=ros.fit_resample(X_train, y_train)\n",
    "\n",
    "nb=MultinomialNB()\n",
    "nb.fit(X_ros, y_ros)\n",
    "ros_score = nb.score(X_test,y_test)\n",
    "ros_score"
   ]
  },
  {
   "cell_type": "code",
   "execution_count": 137,
   "metadata": {},
   "outputs": [
    {
     "name": "stdout",
     "output_type": "stream",
     "text": [
      "1.0\n"
     ]
    }
   ],
   "source": [
    "svc=SVC(random_state=0, kernel=\"linear\")\n",
    "svc.fit(X_ros , y_ros)\n",
    "svc_score=svc.score(X_ros , y_ros)\n",
    "print(svc_score)"
   ]
  },
  {
   "cell_type": "code",
   "execution_count": null,
   "metadata": {},
   "outputs": [],
   "source": [
    "# Code ends here"
   ]
  },
  {
   "cell_type": "markdown",
   "metadata": {},
   "source": [
    "### Prediction on the test data and creating the sample submission file.\n",
    "\n",
    "- Load the test data and store the `Id` column in a separate variable.\n",
    "- Perform the same operations on the test data that you have performed on the train data.\n",
    "- Create the submission file as a `csv` file consisting of the `Id` column from the test data and your prediction as the second column."
   ]
  },
  {
   "cell_type": "code",
   "execution_count": null,
   "metadata": {},
   "outputs": [],
   "source": [
    "# Code Starts here\n",
    "# Prediction on test data\n",
    "\n",
    "\n",
    "\n",
    "\n",
    "\n",
    "\n",
    "\n",
    "\n",
    "\n",
    "\n",
    "\n",
    "\n",
    "\n",
    "\n",
    "\n",
    "\n",
    "\n",
    "\n",
    "\n",
    "\n",
    "\n",
    "\n",
    "\n",
    "\n",
    "\n",
    "\n",
    "\n",
    "\n",
    "\n",
    "\n",
    "\n",
    "\n",
    "\n",
    "\n",
    "\n",
    "\n",
    "\n",
    "# Code ends here"
   ]
  }
 ],
 "metadata": {
  "kernelspec": {
   "display_name": "Python 3",
   "language": "python",
   "name": "python3"
  },
  "language_info": {
   "codemirror_mode": {
    "name": "ipython",
    "version": 3
   },
   "file_extension": ".py",
   "mimetype": "text/x-python",
   "name": "python",
   "nbconvert_exporter": "python",
   "pygments_lexer": "ipython3",
   "version": "3.8.3"
  }
 },
 "nbformat": 4,
 "nbformat_minor": 2
}
