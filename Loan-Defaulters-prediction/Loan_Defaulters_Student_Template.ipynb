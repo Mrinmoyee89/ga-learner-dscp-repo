{
 "cells": [
  {
   "cell_type": "code",
   "execution_count": 153,
   "metadata": {},
   "outputs": [],
   "source": [
    "# import the modules\n",
    "import numpy as np\n",
    "import pandas as pd\n",
    "import collections\n",
    "#Stat and math\n",
    "from math import sqrt\n",
    "from scipy.stats import norm,skew\n",
    "\n",
    "import warnings\n",
    "warnings.filterwarnings(\"ignore\")\n",
    "\n",
    "# Visualization\n",
    "import matplotlib.pyplot as plt\n",
    "import seaborn as sns\n",
    "import plotly.express as px\n",
    "\n",
    "# Data Processing \n",
    "from sklearn.preprocessing import LabelEncoder, MinMaxScaler\n",
    "from sklearn.preprocessing import OneHotEncoder\n",
    "from sklearn.preprocessing import StandardScaler\n",
    "from sklearn.preprocessing import PolynomialFeatures\n",
    "\n",
    "#Impute\n",
    "from sklearn.impute import SimpleImputer\n",
    "\n",
    "#Pipeline\n",
    "from sklearn.pipeline import Pipeline, make_pipeline\n",
    "\n",
    "# Model\n",
    "from sklearn.model_selection import train_test_split, cross_val_score\n",
    "from sklearn.model_selection import GridSearchCV, RandomizedSearchCV\n",
    "\n",
    "\n",
    "#Linear\n",
    "from sklearn.linear_model import LinearRegression, Lasso, Ridge\n",
    "#Logistic\n",
    "from sklearn.linear_model import LogisticRegression\n",
    "#Tree\n",
    "from sklearn.tree import DecisionTreeClassifier\n",
    "from sklearn.tree import export_graphviz\n",
    "from IPython.display import Image\n",
    "import pydotplus\n",
    "\n",
    "# Evaluation metric\n",
    "from sklearn.metrics import mean_absolute_error,mean_squared_error, r2_score\n",
    "from sklearn.metrics import accuracy_score, roc_auc_score\n",
    "\n"
   ]
  },
  {
   "cell_type": "markdown",
   "metadata": {},
   "source": [
    "### Load the dataset\n",
    "\n",
    "- Load the train data and using all your knowledge try to explore the different statistical properties of the dataset."
   ]
  },
  {
   "cell_type": "code",
   "execution_count": 154,
   "metadata": {},
   "outputs": [
    {
     "name": "stdout",
     "output_type": "stream",
     "text": [
      "(7662, 16)\n"
     ]
    },
    {
     "data": {
      "text/html": [
       "<div>\n",
       "<style scoped>\n",
       "    .dataframe tbody tr th:only-of-type {\n",
       "        vertical-align: middle;\n",
       "    }\n",
       "\n",
       "    .dataframe tbody tr th {\n",
       "        vertical-align: top;\n",
       "    }\n",
       "\n",
       "    .dataframe thead th {\n",
       "        text-align: right;\n",
       "    }\n",
       "</style>\n",
       "<table border=\"1\" class=\"dataframe\">\n",
       "  <thead>\n",
       "    <tr style=\"text-align: right;\">\n",
       "      <th></th>\n",
       "      <th>Id</th>\n",
       "      <th>customer.id</th>\n",
       "      <th>credit.policy</th>\n",
       "      <th>purpose</th>\n",
       "      <th>int.rate</th>\n",
       "      <th>installment</th>\n",
       "      <th>log.annual.inc</th>\n",
       "      <th>dti</th>\n",
       "      <th>fico</th>\n",
       "      <th>days.with.cr.line</th>\n",
       "      <th>revol.bal</th>\n",
       "      <th>revol.util</th>\n",
       "      <th>pub.rec</th>\n",
       "      <th>inq.last.6mths</th>\n",
       "      <th>delinq.2yrs</th>\n",
       "      <th>paid.back.loan</th>\n",
       "    </tr>\n",
       "  </thead>\n",
       "  <tbody>\n",
       "    <tr>\n",
       "      <th>0</th>\n",
       "      <td>6269</td>\n",
       "      <td>LA006270</td>\n",
       "      <td>Yes</td>\n",
       "      <td>debt_consolidation</td>\n",
       "      <td>12.53%</td>\n",
       "      <td>689.41</td>\n",
       "      <td>11.513725</td>\n",
       "      <td>14.45</td>\n",
       "      <td>722</td>\n",
       "      <td>4291.000000</td>\n",
       "      <td>13171</td>\n",
       "      <td>51.8</td>\n",
       "      <td>0</td>\n",
       "      <td>Less than 5</td>\n",
       "      <td>No</td>\n",
       "      <td>Yes</td>\n",
       "    </tr>\n",
       "    <tr>\n",
       "      <th>1</th>\n",
       "      <td>1460</td>\n",
       "      <td>LA001461</td>\n",
       "      <td>Yes</td>\n",
       "      <td>credit_card</td>\n",
       "      <td>10.20%</td>\n",
       "      <td>485.42</td>\n",
       "      <td>10.315597</td>\n",
       "      <td>12.87</td>\n",
       "      <td>752</td>\n",
       "      <td>5789.958333</td>\n",
       "      <td>14857</td>\n",
       "      <td>31.3</td>\n",
       "      <td>0</td>\n",
       "      <td>Less than 5</td>\n",
       "      <td>Yes</td>\n",
       "      <td>Yes</td>\n",
       "    </tr>\n",
       "    <tr>\n",
       "      <th>2</th>\n",
       "      <td>5539</td>\n",
       "      <td>LA005540</td>\n",
       "      <td>Yes</td>\n",
       "      <td>debt_consolidation</td>\n",
       "      <td>12.87%</td>\n",
       "      <td>121.08</td>\n",
       "      <td>11.238436</td>\n",
       "      <td>1.58</td>\n",
       "      <td>692</td>\n",
       "      <td>3391.000000</td>\n",
       "      <td>12135</td>\n",
       "      <td>85.5</td>\n",
       "      <td>0</td>\n",
       "      <td>Less than 5</td>\n",
       "      <td>No</td>\n",
       "      <td>Yes</td>\n",
       "    </tr>\n",
       "    <tr>\n",
       "      <th>3</th>\n",
       "      <td>9020</td>\n",
       "      <td>LA009021</td>\n",
       "      <td>No</td>\n",
       "      <td>all_other</td>\n",
       "      <td>15.37%</td>\n",
       "      <td>348.47</td>\n",
       "      <td>11.142007</td>\n",
       "      <td>11.01</td>\n",
       "      <td>687</td>\n",
       "      <td>5370.000000</td>\n",
       "      <td>10631</td>\n",
       "      <td>35.3</td>\n",
       "      <td>0</td>\n",
       "      <td>Less than 10</td>\n",
       "      <td>No</td>\n",
       "      <td>Yes</td>\n",
       "    </tr>\n",
       "    <tr>\n",
       "      <th>4</th>\n",
       "      <td>4365</td>\n",
       "      <td>LA004366</td>\n",
       "      <td>Yes</td>\n",
       "      <td>debt_consolidation</td>\n",
       "      <td>14.61%</td>\n",
       "      <td>344.76</td>\n",
       "      <td>10.308953</td>\n",
       "      <td>11.36</td>\n",
       "      <td>672</td>\n",
       "      <td>2429.958333</td>\n",
       "      <td>10544</td>\n",
       "      <td>57.0</td>\n",
       "      <td>0</td>\n",
       "      <td>Less than 5</td>\n",
       "      <td>Yes</td>\n",
       "      <td>Yes</td>\n",
       "    </tr>\n",
       "  </tbody>\n",
       "</table>\n",
       "</div>"
      ],
      "text/plain": [
       "     Id customer.id credit.policy             purpose int.rate  installment  \\\n",
       "0  6269    LA006270           Yes  debt_consolidation   12.53%       689.41   \n",
       "1  1460    LA001461           Yes         credit_card   10.20%       485.42   \n",
       "2  5539    LA005540           Yes  debt_consolidation   12.87%       121.08   \n",
       "3  9020    LA009021            No           all_other   15.37%       348.47   \n",
       "4  4365    LA004366           Yes  debt_consolidation   14.61%       344.76   \n",
       "\n",
       "   log.annual.inc    dti  fico  days.with.cr.line  revol.bal  revol.util  \\\n",
       "0       11.513725  14.45   722        4291.000000      13171        51.8   \n",
       "1       10.315597  12.87   752        5789.958333      14857        31.3   \n",
       "2       11.238436   1.58   692        3391.000000      12135        85.5   \n",
       "3       11.142007  11.01   687        5370.000000      10631        35.3   \n",
       "4       10.308953  11.36   672        2429.958333      10544        57.0   \n",
       "\n",
       "   pub.rec inq.last.6mths delinq.2yrs paid.back.loan  \n",
       "0        0    Less than 5          No            Yes  \n",
       "1        0    Less than 5         Yes            Yes  \n",
       "2        0    Less than 5          No            Yes  \n",
       "3        0   Less than 10          No            Yes  \n",
       "4        0    Less than 5         Yes            Yes  "
      ]
     },
     "execution_count": 154,
     "metadata": {},
     "output_type": "execute_result"
    }
   ],
   "source": [
    "# Code starts here\n",
    "Train = pd.read_csv('train.csv')\n",
    "Test = pd.read_csv('test.csv')\n",
    "print(Train.shape)\n",
    "Train.head(5)\n"
   ]
  },
  {
   "cell_type": "code",
   "execution_count": 155,
   "metadata": {},
   "outputs": [
    {
     "name": "stdout",
     "output_type": "stream",
     "text": [
      "train: (7662, 14)\n",
      "test: (1916, 13)\n"
     ]
    }
   ],
   "source": [
    "train=Train.drop(columns={'Id','customer.id'})\n",
    "test=Test.drop(columns={'Id','customer.id'})\n",
    "print('train:',train.shape)\n",
    "print('test:',test.shape)"
   ]
  },
  {
   "cell_type": "code",
   "execution_count": 156,
   "metadata": {},
   "outputs": [
    {
     "name": "stdout",
     "output_type": "stream",
     "text": [
      "<class 'pandas.core.frame.DataFrame'>\n",
      "RangeIndex: 7662 entries, 0 to 7661\n",
      "Data columns (total 14 columns):\n",
      " #   Column             Non-Null Count  Dtype  \n",
      "---  ------             --------------  -----  \n",
      " 0   credit.policy      7662 non-null   object \n",
      " 1   purpose            7662 non-null   object \n",
      " 2   int.rate           7662 non-null   object \n",
      " 3   installment        7662 non-null   float64\n",
      " 4   log.annual.inc     7662 non-null   float64\n",
      " 5   dti                7662 non-null   float64\n",
      " 6   fico               7662 non-null   int64  \n",
      " 7   days.with.cr.line  7662 non-null   float64\n",
      " 8   revol.bal          7662 non-null   int64  \n",
      " 9   revol.util         7662 non-null   float64\n",
      " 10  pub.rec            7662 non-null   int64  \n",
      " 11  inq.last.6mths     7662 non-null   object \n",
      " 12  delinq.2yrs        7662 non-null   object \n",
      " 13  paid.back.loan     7662 non-null   object \n",
      "dtypes: float64(5), int64(3), object(6)\n",
      "memory usage: 838.2+ KB\n"
     ]
    }
   ],
   "source": [
    "train.info()"
   ]
  },
  {
   "cell_type": "code",
   "execution_count": 157,
   "metadata": {},
   "outputs": [
    {
     "data": {
      "text/html": [
       "<div>\n",
       "<style scoped>\n",
       "    .dataframe tbody tr th:only-of-type {\n",
       "        vertical-align: middle;\n",
       "    }\n",
       "\n",
       "    .dataframe tbody tr th {\n",
       "        vertical-align: top;\n",
       "    }\n",
       "\n",
       "    .dataframe thead th {\n",
       "        text-align: right;\n",
       "    }\n",
       "</style>\n",
       "<table border=\"1\" class=\"dataframe\">\n",
       "  <thead>\n",
       "    <tr style=\"text-align: right;\">\n",
       "      <th></th>\n",
       "      <th>installment</th>\n",
       "      <th>log.annual.inc</th>\n",
       "      <th>dti</th>\n",
       "      <th>fico</th>\n",
       "      <th>days.with.cr.line</th>\n",
       "      <th>revol.bal</th>\n",
       "      <th>revol.util</th>\n",
       "      <th>pub.rec</th>\n",
       "    </tr>\n",
       "  </thead>\n",
       "  <tbody>\n",
       "    <tr>\n",
       "      <th>count</th>\n",
       "      <td>7662.000000</td>\n",
       "      <td>7662.000000</td>\n",
       "      <td>7662.000000</td>\n",
       "      <td>7662.000000</td>\n",
       "      <td>7662.000000</td>\n",
       "      <td>7662.000000</td>\n",
       "      <td>7662.000000</td>\n",
       "      <td>7662.000000</td>\n",
       "    </tr>\n",
       "    <tr>\n",
       "      <th>mean</th>\n",
       "      <td>318.073414</td>\n",
       "      <td>10.927664</td>\n",
       "      <td>12.628104</td>\n",
       "      <td>710.626990</td>\n",
       "      <td>4556.132167</td>\n",
       "      <td>16801.462151</td>\n",
       "      <td>46.674093</td>\n",
       "      <td>0.061342</td>\n",
       "    </tr>\n",
       "    <tr>\n",
       "      <th>std</th>\n",
       "      <td>207.121270</td>\n",
       "      <td>0.619736</td>\n",
       "      <td>6.856764</td>\n",
       "      <td>37.919831</td>\n",
       "      <td>2492.455086</td>\n",
       "      <td>32315.194429</td>\n",
       "      <td>28.956386</td>\n",
       "      <td>0.260323</td>\n",
       "    </tr>\n",
       "    <tr>\n",
       "      <th>min</th>\n",
       "      <td>15.670000</td>\n",
       "      <td>7.547502</td>\n",
       "      <td>0.000000</td>\n",
       "      <td>612.000000</td>\n",
       "      <td>178.958333</td>\n",
       "      <td>0.000000</td>\n",
       "      <td>0.000000</td>\n",
       "      <td>0.000000</td>\n",
       "    </tr>\n",
       "    <tr>\n",
       "      <th>25%</th>\n",
       "      <td>163.570000</td>\n",
       "      <td>10.545447</td>\n",
       "      <td>7.212500</td>\n",
       "      <td>682.000000</td>\n",
       "      <td>2819.958333</td>\n",
       "      <td>3163.250000</td>\n",
       "      <td>22.600000</td>\n",
       "      <td>0.000000</td>\n",
       "    </tr>\n",
       "    <tr>\n",
       "      <th>50%</th>\n",
       "      <td>267.735000</td>\n",
       "      <td>10.925938</td>\n",
       "      <td>12.705000</td>\n",
       "      <td>707.000000</td>\n",
       "      <td>4113.520834</td>\n",
       "      <td>8538.500000</td>\n",
       "      <td>46.000000</td>\n",
       "      <td>0.000000</td>\n",
       "    </tr>\n",
       "    <tr>\n",
       "      <th>75%</th>\n",
       "      <td>430.910000</td>\n",
       "      <td>11.289782</td>\n",
       "      <td>17.940000</td>\n",
       "      <td>737.000000</td>\n",
       "      <td>5739.239583</td>\n",
       "      <td>18144.250000</td>\n",
       "      <td>70.700000</td>\n",
       "      <td>0.000000</td>\n",
       "    </tr>\n",
       "    <tr>\n",
       "      <th>max</th>\n",
       "      <td>940.140000</td>\n",
       "      <td>14.528354</td>\n",
       "      <td>29.960000</td>\n",
       "      <td>827.000000</td>\n",
       "      <td>17616.000000</td>\n",
       "      <td>952013.000000</td>\n",
       "      <td>119.000000</td>\n",
       "      <td>5.000000</td>\n",
       "    </tr>\n",
       "  </tbody>\n",
       "</table>\n",
       "</div>"
      ],
      "text/plain": [
       "       installment  log.annual.inc          dti         fico  \\\n",
       "count  7662.000000     7662.000000  7662.000000  7662.000000   \n",
       "mean    318.073414       10.927664    12.628104   710.626990   \n",
       "std     207.121270        0.619736     6.856764    37.919831   \n",
       "min      15.670000        7.547502     0.000000   612.000000   \n",
       "25%     163.570000       10.545447     7.212500   682.000000   \n",
       "50%     267.735000       10.925938    12.705000   707.000000   \n",
       "75%     430.910000       11.289782    17.940000   737.000000   \n",
       "max     940.140000       14.528354    29.960000   827.000000   \n",
       "\n",
       "       days.with.cr.line      revol.bal   revol.util      pub.rec  \n",
       "count        7662.000000    7662.000000  7662.000000  7662.000000  \n",
       "mean         4556.132167   16801.462151    46.674093     0.061342  \n",
       "std          2492.455086   32315.194429    28.956386     0.260323  \n",
       "min           178.958333       0.000000     0.000000     0.000000  \n",
       "25%          2819.958333    3163.250000    22.600000     0.000000  \n",
       "50%          4113.520834    8538.500000    46.000000     0.000000  \n",
       "75%          5739.239583   18144.250000    70.700000     0.000000  \n",
       "max         17616.000000  952013.000000   119.000000     5.000000  "
      ]
     },
     "execution_count": 157,
     "metadata": {},
     "output_type": "execute_result"
    }
   ],
   "source": [
    "train.describe()"
   ]
  },
  {
   "cell_type": "code",
   "execution_count": 158,
   "metadata": {},
   "outputs": [],
   "source": [
    "train['int.rate'] = train['int.rate'].str.replace('%', '')\n",
    "test['int.rate'] = test['int.rate'].str.replace('%', '')\n",
    "train = train.astype({\"int.rate\": float})\n",
    "test = test.astype({\"int.rate\": float})"
   ]
  },
  {
   "cell_type": "code",
   "execution_count": 159,
   "metadata": {},
   "outputs": [
    {
     "data": {
      "text/plain": [
       "array(['debt_consolidation', 'credit_card', 'all_other',\n",
       "       'home_improvement', 'small_business', 'major_purchase',\n",
       "       'educational'], dtype=object)"
      ]
     },
     "execution_count": 159,
     "metadata": {},
     "output_type": "execute_result"
    }
   ],
   "source": [
    "train.purpose.unique()"
   ]
  },
  {
   "cell_type": "markdown",
   "metadata": {},
   "source": [
    "### Encoding Yes=1 No=0"
   ]
  },
  {
   "cell_type": "code",
   "execution_count": 160,
   "metadata": {},
   "outputs": [],
   "source": [
    "train.loc[train['paid.back.loan']=='Yes', 'paid.back.loan'] = 1\n",
    "train.loc[train['paid.back.loan']=='No', 'paid.back.loan'] = 0\n",
    "\n",
    "train.loc[train['credit.policy']=='Yes', 'credit.policy'] = 1\n",
    "train.loc[train['credit.policy']=='No', 'credit.policy'] = 0\n",
    "\n",
    "train.loc[train['delinq.2yrs']=='Yes', 'delinq.2yrs'] = 1\n",
    "train.loc[train['delinq.2yrs']=='No', 'delinq.2yrs'] = 0\n",
    "\n",
    "test.loc[test['credit.policy']=='Yes', 'credit.policy'] = 1\n",
    "test.loc[test['credit.policy']=='No', 'credit.policy'] = 0\n",
    "\n",
    "test.loc[test['delinq.2yrs']=='Yes', 'delinq.2yrs'] = 1\n",
    "test.loc[test['delinq.2yrs']=='No', 'delinq.2yrs'] = 0\n"
   ]
  },
  {
   "cell_type": "code",
   "execution_count": null,
   "metadata": {},
   "outputs": [],
   "source": []
  },
  {
   "cell_type": "markdown",
   "metadata": {},
   "source": [
    "## Visualize the data\n",
    "Check for the categorical & continuous features.\n",
    "Check out the best plots for plotting between categorical target and continuous features and try making some inferences from these plots.\n",
    "Clean the data, apply some data preprocessing and engineering techniques."
   ]
  },
  {
   "cell_type": "code",
   "execution_count": 161,
   "metadata": {},
   "outputs": [
    {
     "name": "stdout",
     "output_type": "stream",
     "text": [
      "categorical_columns: ['credit.policy', 'purpose', 'inq.last.6mths', 'delinq.2yrs', 'paid.back.loan']\n",
      "numerical_columns: ['int.rate', 'installment', 'log.annual.inc', 'dti', 'fico', 'days.with.cr.line', 'revol.bal', 'revol.util', 'pub.rec']\n"
     ]
    }
   ],
   "source": [
    "### Catagorical and numerical column\n",
    "\n",
    "cat_col = [col for col in train.columns \n",
    "                       if train[col].dtype.name == 'object']\n",
    "num_col = [col for col in train.columns \n",
    "                     if train[col].dtype.name != 'object']\n",
    "\n",
    "print('categorical_columns:', cat_col)\n",
    "print('numerical_columns:', num_col)"
   ]
  },
  {
   "cell_type": "code",
   "execution_count": 162,
   "metadata": {},
   "outputs": [
    {
     "data": {
      "image/png": "[encoded data removed]",
      "text/plain": [
       "<Figure size 1800x1080 with 14 Axes>"
      ]
     },
     "metadata": {
      "needs_background": "light"
     },
     "output_type": "display_data"
    }
   ],
   "source": [
    "fig = plt.figure(figsize=(25, 15))\n",
    "cols = 5\n",
    "rows = np.ceil(float(train.shape[1]) / cols)\n",
    "for i, column in enumerate(train.columns):\n",
    "    ax = fig.add_subplot(rows, cols, i + 1)\n",
    "    ax.set_title(column)\n",
    "    if train.dtypes[column] == np.object:\n",
    "        train[column].value_counts().plot(kind=\"bar\", axes=ax)\n",
    "    else:\n",
    "        train[column].hist(axes=ax)\n",
    "        plt.xticks(rotation=\"vertical\")\n",
    "plt.subplots_adjust(hspace=0.6, wspace=0.4)"
   ]
  },
  {
   "cell_type": "code",
   "execution_count": 163,
   "metadata": {},
   "outputs": [],
   "source": [
    "le = LabelEncoder()\n",
    "\n",
    "for x in cat_col:\n",
    "    train[x] = le.fit_transform(train[x])\n",
    "    if x in [c for c in test.columns \n",
    "                       if test[c].dtype.name == 'object']:\n",
    "        test[x] = le.transform(test[x])\n",
    "      "
   ]
  },
  {
   "cell_type": "code",
   "execution_count": 164,
   "metadata": {},
   "outputs": [
    {
     "data": {
      "text/plain": [
       "array([3, 0, 2, 1])"
      ]
     },
     "execution_count": 164,
     "metadata": {},
     "output_type": "execute_result"
    }
   ],
   "source": [
    "train['inq.last.6mths'].unique()"
   ]
  },
  {
   "cell_type": "code",
   "execution_count": null,
   "metadata": {},
   "outputs": [],
   "source": []
  },
  {
   "cell_type": "markdown",
   "metadata": {},
   "source": [
    "### Model building\n",
    "\n",
    "- Separate the features and target.\n",
    "- Now let's come to the actual task, using Decision Tree, predict the `paid.back.loan`. Use different techniques you have learned to imporove the performance of the model.\n",
    "- Try improving upon the `accuracy_score` ([Accuracy Score](https://scikit-learn.org/stable/modules/generated/sklearn.metrics.accuracy_score.html))"
   ]
  },
  {
   "cell_type": "code",
   "execution_count": 165,
   "metadata": {},
   "outputs": [],
   "source": [
    "# Code Starts here\n",
    "X = train.iloc[:, :-1]\n",
    "y = train.iloc[:, -1]\n",
    "X_train, X_val, y_train, y_val = train_test_split(X, y, test_size = 0.3, random_state=0)"
   ]
  },
  {
   "cell_type": "code",
   "execution_count": 166,
   "metadata": {},
   "outputs": [
    {
     "name": "stdout",
     "output_type": "stream",
     "text": [
      "Decision tree accuracy:  0.8351457155284906\n"
     ]
    }
   ],
   "source": [
    "dt = DecisionTreeClassifier(max_depth=3, random_state=0)\n",
    "dt.fit(X_train, y_train)\n",
    "\n",
    "dt_predictions = dt.predict(X_val) \n",
    "print(\"Decision tree accuracy: \",accuracy_score(y_val,dt_predictions))"
   ]
  },
  {
   "cell_type": "code",
   "execution_count": 167,
   "metadata": {},
   "outputs": [
    {
     "name": "stdout",
     "output_type": "stream",
     "text": [
      "Best params: {'max_depth': 2}\n",
      "Best cross validaton score 0.8402011378336649\n"
     ]
    }
   ],
   "source": [
    "tree_params = {'max_depth': range(2,15)}\n",
    "\n",
    "locally_best_tree = GridSearchCV(DecisionTreeClassifier(random_state=0),\n",
    "                                 tree_params, cv=5)                  \n",
    "\n",
    "\n",
    "locally_best_tree.fit(X_train, y_train)\n",
    "\n",
    "print(\"Best params:\", locally_best_tree.best_params_)\n",
    "print(\"Best cross validaton score\", locally_best_tree.best_score_)"
   ]
  },
  {
   "cell_type": "code",
   "execution_count": 168,
   "metadata": {},
   "outputs": [
    {
     "name": "stdout",
     "output_type": "stream",
     "text": [
      "Auracy after tuning:  0.8412353197042193\n"
     ]
    }
   ],
   "source": [
    "dt_tune = DecisionTreeClassifier(max_depth=2, random_state=0)\n",
    "dt_tune.fit(X_train, y_train)\n",
    "dt_tune_predictions = dt_tune.predict(X_val)\n",
    "print(\"Auracy after tuning: \",accuracy_score(y_val, dt_tune_predictions))"
   ]
  },
  {
   "cell_type": "markdown",
   "metadata": {},
   "source": [
    "### Prediction on the test data and creating the sample submission file.\n",
    "\n",
    "- Load the test data and store the `Id` column in a separate variable.\n",
    "- Perform the same operations on the test data that you have performed on the train data.\n",
    "- Create the submission file as a `csv` file consisting of the `Id` column from the test data and your prediction as the second column."
   ]
  },
  {
   "cell_type": "code",
   "execution_count": 171,
   "metadata": {},
   "outputs": [],
   "source": [
    "# Code Starts here\n",
    "# Storing the id from the test file\n",
    "id_ = Test['Id']\n",
    "\n",
    "# Predict on the test data\n",
    "y_pred_test = dt_tune.predict(test)\n",
    "\n",
    "# Create a sample submission file\n",
    "final_submission = pd.DataFrame({'Id':id_,'paid.back.loan':y_pred_test})\n",
    "\n",
    "final_submission.loc[final_submission['paid.back.loan']==1, 'paid.back.loan'] = 'Yes'\n",
    "final_submission.loc[final_submission['paid.back.loan']==0, 'paid.back.loan'] = 'No'\n",
    "\n",
    "# Convert the sample submission file into a csv file\n",
    "final_submission.to_csv('final_submission.csv',index=False)\n",
    "\n",
    "\n",
    "\n",
    "# Code ends here"
   ]
  },
  {
   "cell_type": "code",
   "execution_count": 172,
   "metadata": {},
   "outputs": [
    {
     "data": {
      "text/html": [
       "<div>\n",
       "<style scoped>\n",
       "    .dataframe tbody tr th:only-of-type {\n",
       "        vertical-align: middle;\n",
       "    }\n",
       "\n",
       "    .dataframe tbody tr th {\n",
       "        vertical-align: top;\n",
       "    }\n",
       "\n",
       "    .dataframe thead th {\n",
       "        text-align: right;\n",
       "    }\n",
       "</style>\n",
       "<table border=\"1\" class=\"dataframe\">\n",
       "  <thead>\n",
       "    <tr style=\"text-align: right;\">\n",
       "      <th></th>\n",
       "      <th>Id</th>\n",
       "      <th>paid.back.loan</th>\n",
       "    </tr>\n",
       "  </thead>\n",
       "  <tbody>\n",
       "    <tr>\n",
       "      <th>0</th>\n",
       "      <td>5468</td>\n",
       "      <td>Yes</td>\n",
       "    </tr>\n",
       "    <tr>\n",
       "      <th>1</th>\n",
       "      <td>7530</td>\n",
       "      <td>Yes</td>\n",
       "    </tr>\n",
       "    <tr>\n",
       "      <th>2</th>\n",
       "      <td>501</td>\n",
       "      <td>Yes</td>\n",
       "    </tr>\n",
       "    <tr>\n",
       "      <th>3</th>\n",
       "      <td>2690</td>\n",
       "      <td>Yes</td>\n",
       "    </tr>\n",
       "    <tr>\n",
       "      <th>4</th>\n",
       "      <td>3691</td>\n",
       "      <td>Yes</td>\n",
       "    </tr>\n",
       "    <tr>\n",
       "      <th>...</th>\n",
       "      <td>...</td>\n",
       "      <td>...</td>\n",
       "    </tr>\n",
       "    <tr>\n",
       "      <th>1911</th>\n",
       "      <td>1912</td>\n",
       "      <td>Yes</td>\n",
       "    </tr>\n",
       "    <tr>\n",
       "      <th>1912</th>\n",
       "      <td>8342</td>\n",
       "      <td>Yes</td>\n",
       "    </tr>\n",
       "    <tr>\n",
       "      <th>1913</th>\n",
       "      <td>7898</td>\n",
       "      <td>Yes</td>\n",
       "    </tr>\n",
       "    <tr>\n",
       "      <th>1914</th>\n",
       "      <td>4288</td>\n",
       "      <td>Yes</td>\n",
       "    </tr>\n",
       "    <tr>\n",
       "      <th>1915</th>\n",
       "      <td>128</td>\n",
       "      <td>Yes</td>\n",
       "    </tr>\n",
       "  </tbody>\n",
       "</table>\n",
       "<p>1916 rows × 2 columns</p>\n",
       "</div>"
      ],
      "text/plain": [
       "        Id paid.back.loan\n",
       "0     5468            Yes\n",
       "1     7530            Yes\n",
       "2      501            Yes\n",
       "3     2690            Yes\n",
       "4     3691            Yes\n",
       "...    ...            ...\n",
       "1911  1912            Yes\n",
       "1912  8342            Yes\n",
       "1913  7898            Yes\n",
       "1914  4288            Yes\n",
       "1915   128            Yes\n",
       "\n",
       "[1916 rows x 2 columns]"
      ]
     },
     "execution_count": 172,
     "metadata": {},
     "output_type": "execute_result"
    }
   ],
   "source": [
    "final_submission"
   ]
  },
  {
   "cell_type": "code",
   "execution_count": null,
   "metadata": {},
   "outputs": [],
   "source": []
  }
 ],
 "metadata": {
  "kernelspec": {
   "display_name": "Python 3",
   "language": "python",
   "name": "python3"
  },
  "language_info": {
   "codemirror_mode": {
    "name": "ipython",
    "version": 3
   },
   "file_extension": ".py",
   "mimetype": "text/x-python",
   "name": "python",
   "nbconvert_exporter": "python",
   "pygments_lexer": "ipython3",
   "version": "3.8.3"
  }
 },
 "nbformat": 4,
 "nbformat_minor": 2
}
