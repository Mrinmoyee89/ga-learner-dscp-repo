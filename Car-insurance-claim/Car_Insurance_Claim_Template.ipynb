{
 "cells": [
  {
   "cell_type": "markdown",
   "metadata": {},
   "source": [
    "<h1 style=\"color:DarkBlue;\">Prediction of Automobile insurance Claim</h1><h4 style=\"color:Navy;\">presented by  Mrinmoyee Mondal</h4>"
   ]
  },
  {
   "cell_type": "markdown",
   "metadata": {},
   "source": [
    "### Overview:\n",
    "Insurance company wants to know the reason why claim was not made. Doing so would allow insurance company to improve there policy for giving loan to the customer.\n",
    "\n",
    "About the dataset: This is imbalanced dataset . Here 0 - Claim was not made, 1 - Claim made.\n",
    "\n",
    "Objective: better understanding of how to deal with imbalanced dataset. \n",
    "\n",
    "In this project, following concepts have been applied.\n",
    "\n",
    "- 1.Train-test split\n",
    "- 2.Standard scaler\n",
    "- 3.Logistic Regression\n",
    "- 4.SMOTE\n",
    "- 5.feature scaling"
   ]
  },
  {
   "cell_type": "code",
   "execution_count": 54,
   "metadata": {},
   "outputs": [],
   "source": [
    "import numpy as np \n",
    "import pandas as pd \n",
    "import matplotlib.pyplot as plt\n",
    "import seaborn as sns\n",
    "from sklearn.linear_model import LogisticRegression\n",
    "from sklearn.tree import DecisionTreeClassifier\n",
    "from sklearn.ensemble import RandomForestClassifier\n",
    "from sklearn.model_selection import train_test_split\n",
    "from imblearn.over_sampling import SMOTE\n",
    "from sklearn.metrics import precision_score, recall_score, f1_score, roc_auc_score, accuracy_score, classification_report\n",
    "from sklearn.preprocessing import StandardScaler\n",
    "from sklearn.preprocessing import LabelEncoder\n",
    "from sklearn import preprocessing\n",
    "from sklearn.impute import SimpleImputer\n",
    "import warnings\n",
    "warnings.filterwarnings(\"ignore\")"
   ]
  },
  {
   "cell_type": "markdown",
   "metadata": {},
   "source": [
    "### Load the dataset\n",
    "\n",
    "- Load the train data and using all your knowledge try to explore the different statistical properties of the dataset."
   ]
  },
  {
   "cell_type": "code",
   "execution_count": 55,
   "metadata": {},
   "outputs": [
    {
     "data": {
      "text/html": [
       "<div>\n",
       "<style scoped>\n",
       "    .dataframe tbody tr th:only-of-type {\n",
       "        vertical-align: middle;\n",
       "    }\n",
       "\n",
       "    .dataframe tbody tr th {\n",
       "        vertical-align: top;\n",
       "    }\n",
       "\n",
       "    .dataframe thead th {\n",
       "        text-align: right;\n",
       "    }\n",
       "</style>\n",
       "<table border=\"1\" class=\"dataframe\">\n",
       "  <thead>\n",
       "    <tr style=\"text-align: right;\">\n",
       "      <th></th>\n",
       "      <th>Unnamed: 0</th>\n",
       "      <th>ID</th>\n",
       "      <th>KIDSDRIV</th>\n",
       "      <th>AGE</th>\n",
       "      <th>HOMEKIDS</th>\n",
       "      <th>YOJ</th>\n",
       "      <th>INCOME</th>\n",
       "      <th>PARENT1</th>\n",
       "      <th>HOME_VAL</th>\n",
       "      <th>MSTATUS</th>\n",
       "      <th>...</th>\n",
       "      <th>TIF</th>\n",
       "      <th>CAR_TYPE</th>\n",
       "      <th>RED_CAR</th>\n",
       "      <th>OLDCLAIM</th>\n",
       "      <th>CLM_FREQ</th>\n",
       "      <th>REVOKED</th>\n",
       "      <th>MVR_PTS</th>\n",
       "      <th>CLM_AMT</th>\n",
       "      <th>CAR_AGE</th>\n",
       "      <th>CLAIM_FLAG</th>\n",
       "    </tr>\n",
       "  </thead>\n",
       "  <tbody>\n",
       "    <tr>\n",
       "      <th>0</th>\n",
       "      <td>3678</td>\n",
       "      <td>531817639</td>\n",
       "      <td>1</td>\n",
       "      <td>42.0</td>\n",
       "      <td>3</td>\n",
       "      <td>9.0</td>\n",
       "      <td>$4,701</td>\n",
       "      <td>No</td>\n",
       "      <td>$0</td>\n",
       "      <td>Yes</td>\n",
       "      <td>...</td>\n",
       "      <td>1</td>\n",
       "      <td>Sports Car</td>\n",
       "      <td>no</td>\n",
       "      <td>$0</td>\n",
       "      <td>0</td>\n",
       "      <td>No</td>\n",
       "      <td>4</td>\n",
       "      <td>$0</td>\n",
       "      <td>9.0</td>\n",
       "      <td>1</td>\n",
       "    </tr>\n",
       "    <tr>\n",
       "      <th>1</th>\n",
       "      <td>2533</td>\n",
       "      <td>738075150</td>\n",
       "      <td>0</td>\n",
       "      <td>50.0</td>\n",
       "      <td>0</td>\n",
       "      <td>7.0</td>\n",
       "      <td>$10,232</td>\n",
       "      <td>No</td>\n",
       "      <td>$129,979</td>\n",
       "      <td>Yes</td>\n",
       "      <td>...</td>\n",
       "      <td>16</td>\n",
       "      <td>Minivan</td>\n",
       "      <td>no</td>\n",
       "      <td>$5,458</td>\n",
       "      <td>2</td>\n",
       "      <td>No</td>\n",
       "      <td>3</td>\n",
       "      <td>$0</td>\n",
       "      <td>18.0</td>\n",
       "      <td>0</td>\n",
       "    </tr>\n",
       "    <tr>\n",
       "      <th>2</th>\n",
       "      <td>9169</td>\n",
       "      <td>176935775</td>\n",
       "      <td>0</td>\n",
       "      <td>40.0</td>\n",
       "      <td>2</td>\n",
       "      <td>17.0</td>\n",
       "      <td>$66,200</td>\n",
       "      <td>Yes</td>\n",
       "      <td>$223,960</td>\n",
       "      <td>z_No</td>\n",
       "      <td>...</td>\n",
       "      <td>13</td>\n",
       "      <td>z_SUV</td>\n",
       "      <td>no</td>\n",
       "      <td>$0</td>\n",
       "      <td>0</td>\n",
       "      <td>No</td>\n",
       "      <td>1</td>\n",
       "      <td>$629</td>\n",
       "      <td>9.0</td>\n",
       "      <td>1</td>\n",
       "    </tr>\n",
       "    <tr>\n",
       "      <th>3</th>\n",
       "      <td>4174</td>\n",
       "      <td>195054268</td>\n",
       "      <td>2</td>\n",
       "      <td>38.0</td>\n",
       "      <td>2</td>\n",
       "      <td>13.0</td>\n",
       "      <td>$34,056</td>\n",
       "      <td>No</td>\n",
       "      <td>$122,908</td>\n",
       "      <td>Yes</td>\n",
       "      <td>...</td>\n",
       "      <td>4</td>\n",
       "      <td>Sports Car</td>\n",
       "      <td>no</td>\n",
       "      <td>$502</td>\n",
       "      <td>1</td>\n",
       "      <td>No</td>\n",
       "      <td>5</td>\n",
       "      <td>$0</td>\n",
       "      <td>2.0</td>\n",
       "      <td>0</td>\n",
       "    </tr>\n",
       "    <tr>\n",
       "      <th>4</th>\n",
       "      <td>10150</td>\n",
       "      <td>764551255</td>\n",
       "      <td>0</td>\n",
       "      <td>38.0</td>\n",
       "      <td>0</td>\n",
       "      <td>NaN</td>\n",
       "      <td>$45,734</td>\n",
       "      <td>No</td>\n",
       "      <td>$222,653</td>\n",
       "      <td>Yes</td>\n",
       "      <td>...</td>\n",
       "      <td>1</td>\n",
       "      <td>Pickup</td>\n",
       "      <td>no</td>\n",
       "      <td>$3,296</td>\n",
       "      <td>1</td>\n",
       "      <td>No</td>\n",
       "      <td>3</td>\n",
       "      <td>$2,156</td>\n",
       "      <td>2.0</td>\n",
       "      <td>1</td>\n",
       "    </tr>\n",
       "  </tbody>\n",
       "</table>\n",
       "<p>5 rows × 26 columns</p>\n",
       "</div>"
      ],
      "text/plain": [
       "   Unnamed: 0         ID  KIDSDRIV   AGE  HOMEKIDS   YOJ   INCOME PARENT1  \\\n",
       "0        3678  531817639         1  42.0         3   9.0   $4,701      No   \n",
       "1        2533  738075150         0  50.0         0   7.0  $10,232      No   \n",
       "2        9169  176935775         0  40.0         2  17.0  $66,200     Yes   \n",
       "3        4174  195054268         2  38.0         2  13.0  $34,056      No   \n",
       "4       10150  764551255         0  38.0         0   NaN  $45,734      No   \n",
       "\n",
       "   HOME_VAL MSTATUS  ... TIF    CAR_TYPE RED_CAR  OLDCLAIM CLM_FREQ REVOKED  \\\n",
       "0        $0     Yes  ...   1  Sports Car      no        $0        0      No   \n",
       "1  $129,979     Yes  ...  16     Minivan      no    $5,458        2      No   \n",
       "2  $223,960    z_No  ...  13       z_SUV      no        $0        0      No   \n",
       "3  $122,908     Yes  ...   4  Sports Car      no      $502        1      No   \n",
       "4  $222,653     Yes  ...   1      Pickup      no    $3,296        1      No   \n",
       "\n",
       "   MVR_PTS CLM_AMT CAR_AGE CLAIM_FLAG  \n",
       "0        4      $0     9.0          1  \n",
       "1        3      $0    18.0          0  \n",
       "2        1    $629     9.0          1  \n",
       "3        5      $0     2.0          0  \n",
       "4        3  $2,156     2.0          1  \n",
       "\n",
       "[5 rows x 26 columns]"
      ]
     },
     "execution_count": 55,
     "metadata": {},
     "output_type": "execute_result"
    }
   ],
   "source": [
    "# Code starts here\n",
    "# Code starts here\n",
    "train = pd.read_csv('train.csv')\n",
    "train.head(5)"
   ]
  },
  {
   "cell_type": "code",
   "execution_count": 56,
   "metadata": {},
   "outputs": [
    {
     "name": "stdout",
     "output_type": "stream",
     "text": [
      "(8241, 26)\n",
      "<class 'pandas.core.frame.DataFrame'>\n",
      "RangeIndex: 8241 entries, 0 to 8240\n",
      "Data columns (total 26 columns):\n",
      " #   Column      Non-Null Count  Dtype  \n",
      "---  ------      --------------  -----  \n",
      " 0   Unnamed: 0  8241 non-null   int64  \n",
      " 1   ID          8241 non-null   int64  \n",
      " 2   KIDSDRIV    8241 non-null   int64  \n",
      " 3   AGE         8235 non-null   float64\n",
      " 4   HOMEKIDS    8241 non-null   int64  \n",
      " 5   YOJ         7799 non-null   float64\n",
      " 6   INCOME      7779 non-null   object \n",
      " 7   PARENT1     8241 non-null   object \n",
      " 8   HOME_VAL    7783 non-null   object \n",
      " 9   MSTATUS     8241 non-null   object \n",
      " 10  GENDER      8241 non-null   object \n",
      " 11  EDUCATION   8241 non-null   object \n",
      " 12  OCCUPATION  7711 non-null   object \n",
      " 13  TRAVTIME    8241 non-null   int64  \n",
      " 14  CAR_USE     8241 non-null   object \n",
      " 15  BLUEBOOK    8241 non-null   object \n",
      " 16  TIF         8241 non-null   int64  \n",
      " 17  CAR_TYPE    8241 non-null   object \n",
      " 18  RED_CAR     8241 non-null   object \n",
      " 19  OLDCLAIM    8241 non-null   object \n",
      " 20  CLM_FREQ    8241 non-null   int64  \n",
      " 21  REVOKED     8241 non-null   object \n",
      " 22  MVR_PTS     8241 non-null   int64  \n",
      " 23  CLM_AMT     8241 non-null   object \n",
      " 24  CAR_AGE     7726 non-null   float64\n",
      " 25  CLAIM_FLAG  8241 non-null   int64  \n",
      "dtypes: float64(3), int64(9), object(14)\n",
      "memory usage: 1.6+ MB\n",
      "None\n",
      "         Unnamed: 0            ID     KIDSDRIV          AGE     HOMEKIDS  \\\n",
      "count   8241.000000  8.241000e+03  8241.000000  8235.000000  8241.000000   \n",
      "mean    5150.582696  4.955035e+08     0.172309    44.426108     0.726004   \n",
      "std     2986.031582  2.875996e+08     0.508582     9.063494     1.120816   \n",
      "min        2.000000  6.317500e+04     0.000000    14.000000     0.000000   \n",
      "25%     2567.000000  2.411094e+08     0.000000    38.000000     0.000000   \n",
      "50%     5126.000000  4.970541e+08     0.000000    45.000000     0.000000   \n",
      "75%     7752.000000  7.406986e+08     0.000000    51.000000     1.000000   \n",
      "max    10301.000000  9.999264e+08     4.000000    79.000000     5.000000   \n",
      "\n",
      "               YOJ     TRAVTIME          TIF     CLM_FREQ      MVR_PTS  \\\n",
      "count  7799.000000  8241.000000  8241.000000  8241.000000  8241.000000   \n",
      "mean     10.523657    33.236864     5.333212     0.802937     1.718481   \n",
      "std       4.084661    15.885290     4.104653     1.155294     2.163546   \n",
      "min       0.000000     5.000000     1.000000     0.000000     0.000000   \n",
      "25%       9.000000    22.000000     1.000000     0.000000     0.000000   \n",
      "50%      11.000000    33.000000     4.000000     0.000000     1.000000   \n",
      "75%      13.000000    43.000000     7.000000     2.000000     3.000000   \n",
      "max      23.000000   142.000000    25.000000     5.000000    13.000000   \n",
      "\n",
      "           CAR_AGE   CLAIM_FLAG  \n",
      "count  7726.000000  8241.000000  \n",
      "mean      7.793684     0.343041  \n",
      "std       5.795045     0.474754  \n",
      "min      -1.000000     0.000000  \n",
      "25%       2.000000     0.000000  \n",
      "50%       8.000000     0.000000  \n",
      "75%      12.000000     1.000000  \n",
      "max      28.000000     1.000000  \n"
     ]
    }
   ],
   "source": [
    "print(train.shape)\n",
    "print(train.info())\n",
    "print(train.describe())"
   ]
  },
  {
   "cell_type": "code",
   "execution_count": 57,
   "metadata": {},
   "outputs": [
    {
     "name": "stdout",
     "output_type": "stream",
     "text": [
      "(2061, 25)\n",
      "<class 'pandas.core.frame.DataFrame'>\n",
      "RangeIndex: 2061 entries, 0 to 2060\n",
      "Data columns (total 25 columns):\n",
      " #   Column      Non-Null Count  Dtype  \n",
      "---  ------      --------------  -----  \n",
      " 0   Unnamed: 0  2061 non-null   int64  \n",
      " 1   ID          2061 non-null   int64  \n",
      " 2   KIDSDRIV    2061 non-null   int64  \n",
      " 3   AGE         2060 non-null   float64\n",
      " 4   HOMEKIDS    2061 non-null   int64  \n",
      " 5   YOJ         1955 non-null   float64\n",
      " 6   INCOME      1953 non-null   object \n",
      " 7   PARENT1     2061 non-null   object \n",
      " 8   HOME_VAL    1944 non-null   object \n",
      " 9   MSTATUS     2061 non-null   object \n",
      " 10  GENDER      2061 non-null   object \n",
      " 11  EDUCATION   2061 non-null   object \n",
      " 12  OCCUPATION  1926 non-null   object \n",
      " 13  TRAVTIME    2061 non-null   int64  \n",
      " 14  CAR_USE     2061 non-null   object \n",
      " 15  BLUEBOOK    2061 non-null   object \n",
      " 16  TIF         2061 non-null   int64  \n",
      " 17  CAR_TYPE    2061 non-null   object \n",
      " 18  RED_CAR     2061 non-null   object \n",
      " 19  OLDCLAIM    2061 non-null   object \n",
      " 20  CLM_FREQ    2061 non-null   int64  \n",
      " 21  REVOKED     2061 non-null   object \n",
      " 22  MVR_PTS     2061 non-null   int64  \n",
      " 23  CLM_AMT     2061 non-null   object \n",
      " 24  CAR_AGE     1937 non-null   float64\n",
      "dtypes: float64(3), int64(8), object(14)\n",
      "memory usage: 402.7+ KB\n",
      "None\n"
     ]
    }
   ],
   "source": [
    "test = pd.read_csv('test.csv')\n",
    "print(test.shape)\n",
    "print(test.info())"
   ]
  },
  {
   "cell_type": "code",
   "execution_count": 58,
   "metadata": {},
   "outputs": [],
   "source": [
    "def impute_null_values(train_data,test_data,column,imputer_type):\n",
    "    mean_imputer = SimpleImputer(strategy='mean')\n",
    "    mode_imputer = SimpleImputer(strategy='most_frequent')\n",
    "    for n in range(0,len(column)):\n",
    "        if(imputer_type == 'mean'):        \n",
    "            mean_imputer.fit(train_data[[column[n]]])\n",
    "            train_data[column[n]] = mean_imputer.transform(train_data[[column[n]]])\n",
    "            test_data[column[n]] = mean_imputer.transform(test_data[[column[n]]])\n",
    "        elif(imputer_type == 'mode'):\n",
    "            mode_imputer.fit(train[[column[n]]])\n",
    "            train_data[column[n]]=mode_imputer.transform(train_data[[column[n]]])\n",
    "            test_data[column[n]]=mode_imputer.transform(test_data[[column[n]]])\n",
    "    return train_data,test_data"
   ]
  },
  {
   "cell_type": "code",
   "execution_count": 59,
   "metadata": {},
   "outputs": [],
   "source": [
    "def removal_unwanted_char(data,column,char):\n",
    "    for n in range(0,len(column)):\n",
    "        for i in range(0,len(char)):\n",
    "            data[column[n]] = data[column[n]].str.replace(char[i],'')\n",
    "    return data"
   ]
  },
  {
   "cell_type": "code",
   "execution_count": 60,
   "metadata": {},
   "outputs": [],
   "source": [
    "def change_dtype(data,column,to_type):\n",
    "    for n in range(0,len(column)):\n",
    "        data = data.astype({column[n]: to_type})\n",
    "    return data"
   ]
  },
  {
   "cell_type": "markdown",
   "metadata": {},
   "source": [
    "### Visualize the data\n",
    "\n",
    "- Check for the categorical & continuous features. \n",
    "- Check out the best plots for plotting between categorical target and continuous features and try making some inferences from these plots.\n",
    "- Clean the data, apply some data preprocessing and engineering techniques."
   ]
  },
  {
   "cell_type": "code",
   "execution_count": 61,
   "metadata": {},
   "outputs": [],
   "source": [
    "# Code starts here\n",
    "columns = ['INCOME','HOME_VAL','OLDCLAIM','CLM_AMT','BLUEBOOK']\n",
    "signs = ['$',',']\n",
    "\n",
    "train = removal_unwanted_char(train,columns,signs)\n",
    "test = removal_unwanted_char(test,columns,signs)\n",
    "#print(train.head(5))"
   ]
  },
  {
   "cell_type": "code",
   "execution_count": 62,
   "metadata": {},
   "outputs": [
    {
     "name": "stdout",
     "output_type": "stream",
     "text": [
      "0\n",
      "0\n"
     ]
    }
   ],
   "source": [
    "columns_mean = ['AGE','YOJ','INCOME','HOME_VAL','CAR_AGE']\n",
    "train,test = impute_null_values(train,test,columns_mean,'mean')\n",
    "columns_mode = ['OCCUPATION']\n",
    "train,test = impute_null_values(train,test,columns_mode,'mode')\n",
    "print(train.isnull().sum().values.sum())\n",
    "print(test.isnull().sum().values.sum())"
   ]
  },
  {
   "cell_type": "code",
   "execution_count": 63,
   "metadata": {},
   "outputs": [
    {
     "name": "stdout",
     "output_type": "stream",
     "text": [
      "Unnamed: 0      int64\n",
      "ID              int64\n",
      "KIDSDRIV        int64\n",
      "AGE           float64\n",
      "HOMEKIDS        int64\n",
      "YOJ           float64\n",
      "INCOME        float64\n",
      "PARENT1        object\n",
      "HOME_VAL      float64\n",
      "MSTATUS        object\n",
      "GENDER         object\n",
      "EDUCATION      object\n",
      "OCCUPATION     object\n",
      "TRAVTIME        int64\n",
      "CAR_USE        object\n",
      "BLUEBOOK      float64\n",
      "TIF             int64\n",
      "CAR_TYPE       object\n",
      "RED_CAR        object\n",
      "OLDCLAIM      float64\n",
      "CLM_FREQ        int64\n",
      "REVOKED        object\n",
      "MVR_PTS         int64\n",
      "CLM_AMT       float64\n",
      "CAR_AGE       float64\n",
      "CLAIM_FLAG      int64\n",
      "dtype: object\n"
     ]
    }
   ],
   "source": [
    "train = change_dtype(train,columns,float)\n",
    "test = change_dtype(test,columns,float)\n",
    "print(train.dtypes)"
   ]
  },
  {
   "cell_type": "code",
   "execution_count": 64,
   "metadata": {},
   "outputs": [
    {
     "name": "stdout",
     "output_type": "stream",
     "text": [
      "categorical_columns: ['PARENT1', 'MSTATUS', 'GENDER', 'EDUCATION', 'OCCUPATION', 'CAR_USE', 'CAR_TYPE', 'RED_CAR', 'REVOKED']\n",
      "numerical_columns: ['Unnamed: 0', 'ID', 'KIDSDRIV', 'AGE', 'HOMEKIDS', 'YOJ', 'INCOME', 'HOME_VAL', 'TRAVTIME', 'BLUEBOOK', 'TIF', 'OLDCLAIM', 'CLM_FREQ', 'MVR_PTS', 'CLM_AMT', 'CAR_AGE', 'CLAIM_FLAG']\n"
     ]
    }
   ],
   "source": [
    "# choose categorical and continuous features from data\n",
    "\n",
    "categorical_columns = [c for c in train.columns \n",
    "                       if train[c].dtype.name == 'object']\n",
    "numerical_columns = [c for c in train.columns \n",
    "                     if train[c].dtype.name != 'object']\n",
    "\n",
    "print('categorical_columns:', categorical_columns)\n",
    "print('numerical_columns:', numerical_columns)"
   ]
  },
  {
   "cell_type": "code",
   "execution_count": 65,
   "metadata": {},
   "outputs": [
    {
     "data": {
      "image/png": "[encoded data removed]",
      "text/plain": [
       "<Figure size 1800x1080 with 26 Axes>"
      ]
     },
     "metadata": {
      "needs_background": "light"
     },
     "output_type": "display_data"
    }
   ],
   "source": [
    "\n",
    "fig = plt.figure(figsize=(25, 15))\n",
    "cols = 4\n",
    "rows = np.ceil(float(train.shape[1]) / cols)\n",
    "for i, column in enumerate(train.columns):\n",
    "    ax = fig.add_subplot(rows, cols, i + 1)\n",
    "    ax.set_title(column)\n",
    "    if train.dtypes[column] == np.object:\n",
    "        train[column].value_counts().plot(kind=\"bar\", axes=ax)\n",
    "    else:\n",
    "        train[column].hist(axes=ax)\n",
    "        plt.xticks(rotation=\"vertical\")\n",
    "plt.subplots_adjust(hspace=0.7, wspace=0.2)\n"
   ]
  },
  {
   "cell_type": "code",
   "execution_count": 66,
   "metadata": {},
   "outputs": [],
   "source": [
    "le = LabelEncoder()\n",
    "\n",
    "for x in categorical_columns:\n",
    "    train[x] = le.fit_transform(train[x].astype(str))\n",
    "    if x in [c for c in test.columns \n",
    "                       if test[c].dtype.name == 'object']:\n",
    "        test[x] = le.transform(test[x].astype(str))"
   ]
  },
  {
   "cell_type": "markdown",
   "metadata": {},
   "source": [
    "### Model building\n",
    "\n",
    "- Separate the features and target.\n",
    "- Now let's come to the actual task, using Decision Tree, predict the `paid.back.loan`. Use different techniques you have learned to imporove the performance of the model.\n",
    "- Try improving upon the `accuracy_score` ([Accuracy Score](https://scikit-learn.org/stable/modules/generated/sklearn.metrics.accuracy_score.html))"
   ]
  },
  {
   "cell_type": "code",
   "execution_count": 28,
   "metadata": {},
   "outputs": [],
   "source": [
    "# Code Starts here\n",
    "X = train.iloc[:, :-1]\n",
    "y = train.iloc[:, -1]\n",
    "X_train, X_val, y_train, y_val = train_test_split(X, y, test_size = 0.3)"
   ]
  },
  {
   "cell_type": "code",
   "execution_count": 77,
   "metadata": {},
   "outputs": [
    {
     "data": {
      "image/png": "[encoded data removed]",
      "text/plain": [
       "<Figure size 432x288 with 1 Axes>"
      ]
     },
     "metadata": {
      "needs_background": "light"
     },
     "output_type": "display_data"
    }
   ],
   "source": [
    "g = sns.countplot(y)\n",
    "g.set_xticklabels(['claim was made','claim was not made'])\n",
    "plt.show()"
   ]
  },
  {
   "cell_type": "code",
   "execution_count": 78,
   "metadata": {},
   "outputs": [
    {
     "name": "stdout",
     "output_type": "stream",
     "text": [
      "Decision tree f1 score:  0.7335858585858586\n"
     ]
    }
   ],
   "source": [
    "tree = DecisionTreeClassifier(max_depth=3, random_state=17)\n",
    "tree.fit(X_train, y_train)\n",
    "\n",
    "tree_predictions = tree.predict(X_val) \n",
    "print(\"Decision tree f1 score: \",f1_score(y_val,tree_predictions))"
   ]
  },
  {
   "cell_type": "code",
   "execution_count": 79,
   "metadata": {},
   "outputs": [
    {
     "data": {
      "text/plain": [
       "array([[1470,  107],\n",
       "       [ 315,  581]], dtype=int64)"
      ]
     },
     "execution_count": 79,
     "metadata": {},
     "output_type": "execute_result"
    }
   ],
   "source": [
    "from sklearn.metrics import confusion_matrix\n",
    "confusion_matrix(y_val, tree_predictions)"
   ]
  },
  {
   "cell_type": "code",
   "execution_count": 30,
   "metadata": {},
   "outputs": [],
   "source": [
    "smote=SMOTE(random_state=0)\n",
    "X_sample, y_sample=smote.fit_resample(X_train, y_train)"
   ]
  },
  {
   "cell_type": "code",
   "execution_count": 81,
   "metadata": {},
   "outputs": [
    {
     "name": "stdout",
     "output_type": "stream",
     "text": [
      "(7674, 25) (7674,)\n"
     ]
    }
   ],
   "source": [
    "print(X_sample.shape, y_sample.shape)"
   ]
  },
  {
   "cell_type": "code",
   "execution_count": 80,
   "metadata": {},
   "outputs": [
    {
     "data": {
      "image/png": "[encoded data removed]",
      "text/plain": [
       "<Figure size 432x288 with 1 Axes>"
      ]
     },
     "metadata": {
      "needs_background": "light"
     },
     "output_type": "display_data"
    }
   ],
   "source": [
    "g = sns.countplot(y_sample)\n",
    "g.set_xticklabels(['claim was made','claim was not made'])\n",
    "plt.show()"
   ]
  },
  {
   "cell_type": "code",
   "execution_count": 82,
   "metadata": {},
   "outputs": [
    {
     "name": "stdout",
     "output_type": "stream",
     "text": [
      "Decision tree f1 score:  0.7400881057268722\n",
      "[[1472  105]\n",
      " [ 308  588]]\n"
     ]
    }
   ],
   "source": [
    "tree1 = DecisionTreeClassifier(max_depth=3, random_state=17)\n",
    "tree1.fit(X_sample, y_sample)\n",
    "\n",
    "tree_predictions = tree1.predict(X_val) \n",
    "print(\"Decision tree f1 score: \",f1_score(y_val,tree_predictions))\n",
    "print(confusion_matrix(y_val, tree_predictions))"
   ]
  },
  {
   "cell_type": "markdown",
   "metadata": {},
   "source": [
    "### Prediction on the test data and creating the sample submission file.\n",
    "\n",
    "- Load the test data and store the `Id` column in a separate variable.\n",
    "- Perform the same operations on the test data that you have performed on the train data.\n",
    "- Create the submission file as a `csv` file consisting of the `Id` column from the test data and your prediction as the second column."
   ]
  },
  {
   "cell_type": "code",
   "execution_count": 45,
   "metadata": {},
   "outputs": [],
   "source": [
    "# Code Starts here\n",
    "\n",
    "# Storing the id from the test file\n",
    "id_ = test['ID']\n",
    "\n",
    "# Predict on the test data\n",
    "y_pred_test = tree1.predict(test)\n",
    "\n",
    "# Create a sample submission file\n",
    "final_submission = pd.DataFrame({'':id_,'CLAIM_FLAG':y_pred_test})\n",
    "\n",
    "\n",
    "# Convert the sample submission file into a csv file\n",
    "final_submission.to_csv('final_submission.csv',index=False)\n",
    "\n",
    "# Code ends here"
   ]
  },
  {
   "cell_type": "code",
   "execution_count": null,
   "metadata": {},
   "outputs": [],
   "source": []
  }
 ],
 "metadata": {
  "kernelspec": {
   "display_name": "Python 3",
   "language": "python",
   "name": "python3"
  },
  "language_info": {
   "codemirror_mode": {
    "name": "ipython",
    "version": 3
   },
   "file_extension": ".py",
   "mimetype": "text/x-python",
   "name": "python",
   "nbconvert_exporter": "python",
   "pygments_lexer": "ipython3",
   "version": "3.8.3"
  }
 },
 "nbformat": 4,
 "nbformat_minor": 2
}
